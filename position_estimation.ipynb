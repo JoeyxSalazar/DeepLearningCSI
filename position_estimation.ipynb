{
 "cells": [
  {
   "cell_type": "markdown",
   "id": "b980fb99",
   "metadata": {},
   "source": [
    "## Import Tools"
   ]
  },
  {
   "cell_type": "code",
   "execution_count": 1,
   "id": "1d18ad08",
   "metadata": {},
   "outputs": [],
   "source": [
    "import torch\n",
    "import torch.nn as nn\n",
    "import numpy as np\n",
    "import scipy.io \n",
    "import random\n",
    "import math\n",
    "import matplotlib.pyplot as plt\n",
    "import torch.nn.functional as F\n",
    "import os\n",
    "os.environ['KMP_DUPLICATE_LIB_OK']='True' \n",
    "from torch.utils.data import TensorDataset\n",
    "from torch.utils.data import DataLoader\n",
    "from sklearn.metrics import accuracy_score"
   ]
  },
  {
   "cell_type": "markdown",
   "id": "8606c205",
   "metadata": {},
   "source": [
    "## Dataset Processing "
   ]
  },
  {
   "cell_type": "markdown",
   "id": "4f2dca00",
   "metadata": {},
   "source": [
    "### Read in the original dataset "
   ]
  },
  {
   "cell_type": "code",
   "execution_count": 2,
   "id": "58c7763d",
   "metadata": {},
   "outputs": [],
   "source": [
    "train_dl_origin = torch.load('Dataset/train_dl.pt')\n",
    "valid_dl_origin = torch.load('Dataset/valid_dl.pt')\n",
    "\n",
    "train_CSI = train_dl_origin.dataset[:][0]\n",
    "train_label = train_dl_origin.dataset[:][1][:,0:2]\n",
    "\n",
    "valid_CSI = valid_dl_origin.dataset[:][0]\n",
    "valid_label = valid_dl_origin.dataset[:][1][:,0:2]"
   ]
  },
  {
   "cell_type": "code",
   "execution_count": 3,
   "id": "0595693c",
   "metadata": {},
   "outputs": [
    {
     "name": "stdout",
     "output_type": "stream",
     "text": [
      "tensor([[-37.2707, -21.4267],\n",
      "        [-38.7407, -16.3757],\n",
      "        [-25.9407, -16.6947],\n",
      "        ...,\n",
      "        [-32.1957, -22.0517],\n",
      "        [-16.1297, -14.0287],\n",
      "        [-37.0697, -16.6887]])\n"
     ]
    }
   ],
   "source": [
    "print(train_label)"
   ]
  },
  {
   "cell_type": "markdown",
   "id": "c7566af9",
   "metadata": {},
   "source": [
    "### CSI Processing: Take Modulus of complex matrices"
   ]
  },
  {
   "cell_type": "code",
   "execution_count": 4,
   "id": "f91b91df",
   "metadata": {},
   "outputs": [],
   "source": [
    "train_CSI_modulus = torch.abs(train_CSI)\n",
    "valid_CSI_modulus = torch.abs(valid_CSI)"
   ]
  },
  {
   "cell_type": "code",
   "execution_count": 5,
   "id": "1257ed76",
   "metadata": {},
   "outputs": [
    {
     "name": "stdout",
     "output_type": "stream",
     "text": [
      "torch.Size([15000, 1, 4, 1632])\n",
      "torch.Size([5000, 1, 4, 1632])\n",
      "torch.Size([15000, 2])\n",
      "torch.Size([5000, 2])\n"
     ]
    }
   ],
   "source": [
    "print(train_CSI_modulus.shape)\n",
    "print(valid_CSI_modulus.shape)\n",
    "print(train_label.shape)\n",
    "print(valid_label.shape)"
   ]
  },
  {
   "cell_type": "markdown",
   "id": "0db9fa7c",
   "metadata": {},
   "source": [
    "###  CSI Processing: Normalize to [0,1]"
   ]
  },
  {
   "cell_type": "code",
   "execution_count": 6,
   "id": "9bdd0c7a",
   "metadata": {},
   "outputs": [],
   "source": [
    "# Min-Max Scaling\n",
    "min_value = torch.min(train_CSI_modulus)\n",
    "max_value = torch.max(train_CSI_modulus)\n",
    "\n",
    "normalized_train_CSI_modulus = (train_CSI_modulus - min_value) / (max_value - min_value)\n",
    "normalized_valid_CSI_modulus = (valid_CSI_modulus - min_value) / (max_value - min_value)"
   ]
  },
  {
   "cell_type": "code",
   "execution_count": 7,
   "id": "61d8ed0a",
   "metadata": {},
   "outputs": [],
   "source": [
    "# Convert 4d to 2d\n",
    "train_data_2d = normalized_train_CSI_modulus.view(normalized_train_CSI_modulus.size(0), -1)  # Reshape to (15000, 4 * 1632)\n",
    "valid_data_2d = normalized_valid_CSI_modulus.view(normalized_valid_CSI_modulus.size(0), -1)  # Reshape to (15000, 4 * 1632)"
   ]
  },
  {
   "cell_type": "code",
   "execution_count": 8,
   "metadata": {},
   "outputs": [
    {
     "data": {
      "text/plain": [
       "torch.Size([5000, 6528])"
      ]
     },
     "execution_count": 8,
     "metadata": {},
     "output_type": "execute_result"
    }
   ],
   "source": [
    "train_data_2d.shape\n",
    "valid_data_2d.shape"
   ]
  },
  {
   "cell_type": "markdown",
   "metadata": {},
   "source": [
    "#   ML w/ Linear Regression"
   ]
  },
  {
   "cell_type": "code",
   "execution_count": 8,
   "metadata": {},
   "outputs": [
    {
     "name": "stdout",
     "output_type": "stream",
     "text": [
      "0.9018167298339954\n",
      "0.6891206395129608\n"
     ]
    }
   ],
   "source": [
    "from sklearn.linear_model import LinearRegression\n",
    "# Create the model\n",
    "model = LinearRegression()\n",
    "# Fit the model\n",
    "model.fit(train_data_2d, train_label)\n",
    "# Score the model\n",
    "print(model.score(train_data_2d, train_label))\n",
    "print(model.score(valid_data_2d, valid_label))\n"
   ]
  },
  {
   "cell_type": "code",
   "execution_count": 9,
   "metadata": {},
   "outputs": [],
   "source": [
    "from sklearn.metrics import mean_squared_error\n",
    "train_predictions = model.predict(train_data_2d)\n",
    "valid_predictions = model.predict(valid_data_2d)\n",
    "train_mse = mean_squared_error(train_label, train_predictions)\n",
    "valid_mse = mean_squared_error(valid_label, valid_predictions)"
   ]
  },
  {
   "cell_type": "markdown",
   "metadata": {},
   "source": [
    "### Lets use L1 regularization now\n",
    "- We expect this to perform poorly since all features are equally important"
   ]
  },
  {
   "cell_type": "code",
   "execution_count": 11,
   "metadata": {},
   "outputs": [
    {
     "name": "stderr",
     "output_type": "stream",
     "text": [
      "C:\\Users\\Joey\\AppData\\Local\\Packages\\PythonSoftwareFoundation.Python.3.11_qbz5n2kfra8p0\\LocalCache\\local-packages\\Python311\\site-packages\\sklearn\\linear_model\\_base.py:148: FutureWarning: 'normalize' was deprecated in version 1.0 and will be removed in 1.2. Please leave the normalize parameter to its default value to silence this warning. The default behavior of this estimator is to not do any normalization. If normalization is needed please use sklearn.preprocessing.StandardScaler instead.\n",
      "  warnings.warn(\n"
     ]
    },
    {
     "data": {
      "text/html": [
       "<style>#sk-container-id-1 {color: black;background-color: white;}#sk-container-id-1 pre{padding: 0;}#sk-container-id-1 div.sk-toggleable {background-color: white;}#sk-container-id-1 label.sk-toggleable__label {cursor: pointer;display: block;width: 100%;margin-bottom: 0;padding: 0.3em;box-sizing: border-box;text-align: center;}#sk-container-id-1 label.sk-toggleable__label-arrow:before {content: \"▸\";float: left;margin-right: 0.25em;color: #696969;}#sk-container-id-1 label.sk-toggleable__label-arrow:hover:before {color: black;}#sk-container-id-1 div.sk-estimator:hover label.sk-toggleable__label-arrow:before {color: black;}#sk-container-id-1 div.sk-toggleable__content {max-height: 0;max-width: 0;overflow: hidden;text-align: left;background-color: #f0f8ff;}#sk-container-id-1 div.sk-toggleable__content pre {margin: 0.2em;color: black;border-radius: 0.25em;background-color: #f0f8ff;}#sk-container-id-1 input.sk-toggleable__control:checked~div.sk-toggleable__content {max-height: 200px;max-width: 100%;overflow: auto;}#sk-container-id-1 input.sk-toggleable__control:checked~label.sk-toggleable__label-arrow:before {content: \"▾\";}#sk-container-id-1 div.sk-estimator input.sk-toggleable__control:checked~label.sk-toggleable__label {background-color: #d4ebff;}#sk-container-id-1 div.sk-label input.sk-toggleable__control:checked~label.sk-toggleable__label {background-color: #d4ebff;}#sk-container-id-1 input.sk-hidden--visually {border: 0;clip: rect(1px 1px 1px 1px);clip: rect(1px, 1px, 1px, 1px);height: 1px;margin: -1px;overflow: hidden;padding: 0;position: absolute;width: 1px;}#sk-container-id-1 div.sk-estimator {font-family: monospace;background-color: #f0f8ff;border: 1px dotted black;border-radius: 0.25em;box-sizing: border-box;margin-bottom: 0.5em;}#sk-container-id-1 div.sk-estimator:hover {background-color: #d4ebff;}#sk-container-id-1 div.sk-parallel-item::after {content: \"\";width: 100%;border-bottom: 1px solid gray;flex-grow: 1;}#sk-container-id-1 div.sk-label:hover label.sk-toggleable__label {background-color: #d4ebff;}#sk-container-id-1 div.sk-serial::before {content: \"\";position: absolute;border-left: 1px solid gray;box-sizing: border-box;top: 0;bottom: 0;left: 50%;z-index: 0;}#sk-container-id-1 div.sk-serial {display: flex;flex-direction: column;align-items: center;background-color: white;padding-right: 0.2em;padding-left: 0.2em;position: relative;}#sk-container-id-1 div.sk-item {position: relative;z-index: 1;}#sk-container-id-1 div.sk-parallel {display: flex;align-items: stretch;justify-content: center;background-color: white;position: relative;}#sk-container-id-1 div.sk-item::before, #sk-container-id-1 div.sk-parallel-item::before {content: \"\";position: absolute;border-left: 1px solid gray;box-sizing: border-box;top: 0;bottom: 0;left: 50%;z-index: -1;}#sk-container-id-1 div.sk-parallel-item {display: flex;flex-direction: column;z-index: 1;position: relative;background-color: white;}#sk-container-id-1 div.sk-parallel-item:first-child::after {align-self: flex-end;width: 50%;}#sk-container-id-1 div.sk-parallel-item:last-child::after {align-self: flex-start;width: 50%;}#sk-container-id-1 div.sk-parallel-item:only-child::after {width: 0;}#sk-container-id-1 div.sk-dashed-wrapped {border: 1px dashed gray;margin: 0 0.4em 0.5em 0.4em;box-sizing: border-box;padding-bottom: 0.4em;background-color: white;}#sk-container-id-1 div.sk-label label {font-family: monospace;font-weight: bold;display: inline-block;line-height: 1.2em;}#sk-container-id-1 div.sk-label-container {text-align: center;}#sk-container-id-1 div.sk-container {/* jupyter's `normalize.less` sets `[hidden] { display: none; }` but bootstrap.min.css set `[hidden] { display: none !important; }` so we also need the `!important` here to be able to override the default hidden behavior on the sphinx rendered scikit-learn.org. See: https://github.com/scikit-learn/scikit-learn/issues/21755 */display: inline-block !important;position: relative;}#sk-container-id-1 div.sk-text-repr-fallback {display: none;}</style><div id=\"sk-container-id-1\" class=\"sk-top-container\"><div class=\"sk-text-repr-fallback\"><pre>Lasso(alpha=0.1, normalize=False)</pre><b>In a Jupyter environment, please rerun this cell to show the HTML representation or trust the notebook. <br />On GitHub, the HTML representation is unable to render, please try loading this page with nbviewer.org.</b></div><div class=\"sk-container\" hidden><div class=\"sk-item\"><div class=\"sk-estimator sk-toggleable\"><input class=\"sk-toggleable__control sk-hidden--visually\" id=\"sk-estimator-id-1\" type=\"checkbox\" checked><label for=\"sk-estimator-id-1\" class=\"sk-toggleable__label sk-toggleable__label-arrow\">Lasso</label><div class=\"sk-toggleable__content\"><pre>Lasso(alpha=0.1, normalize=False)</pre></div></div></div></div></div>"
      ],
      "text/plain": [
       "Lasso(alpha=0.1, normalize=False)"
      ]
     },
     "execution_count": 11,
     "metadata": {},
     "output_type": "execute_result"
    }
   ],
   "source": [
    "from sklearn.linear_model import Lasso\n",
    "lasso_model = Lasso(alpha=.1, normalize=False)\n",
    "lasso_model.fit(train_data_2d, train_label)"
   ]
  },
  {
   "cell_type": "code",
   "execution_count": 12,
   "metadata": {},
   "outputs": [
    {
     "name": "stdout",
     "output_type": "stream",
     "text": [
      "Training R-squared: 0.28614985912199603\n",
      "Validation R-squared: 0.28412069940421636\n"
     ]
    }
   ],
   "source": [
    "train_score = lasso_model.score(train_data_2d, train_label)\n",
    "valid_score = lasso_model.score(valid_data_2d, valid_label)\n",
    "\n",
    "print(\"Training R-squared:\", train_score)\n",
    "print(\"Validation R-squared:\", valid_score)"
   ]
  },
  {
   "cell_type": "code",
   "execution_count": 13,
   "metadata": {},
   "outputs": [],
   "source": [
    "train_predictions_l = lasso_model.predict(train_data_2d)\n",
    "valid_predictions_l = lasso_model.predict(valid_data_2d)\n",
    "train_mse_l = mean_squared_error(train_label, train_predictions_l)\n",
    "valid_mse_l = mean_squared_error(valid_label, valid_predictions_l)\n"
   ]
  },
  {
   "cell_type": "code",
   "execution_count": 14,
   "metadata": {},
   "outputs": [
    {
     "data": {
      "image/png": "[encoded data removed]",
      "text/plain": [
       "<Figure size 640x480 with 1 Axes>"
      ]
     },
     "metadata": {},
     "output_type": "display_data"
    }
   ],
   "source": [
    "mse_values = [train_mse, train_mse_l, valid_mse, valid_mse_l]  \n",
    "case_labels = ['Lin Reg Train', 'Lasso Train', 'Line Reg Valid', 'Lasso Valid']  \n",
    "\n",
    "plt.bar(case_labels, mse_values, color='blue')\n",
    "plt.xlabel('Cases')\n",
    "plt.ylabel('Mean Squared Error (MSE)')\n",
    "plt.title('MSE for Different Cases')\n",
    "\n",
    "plt.show()"
   ]
  },
  {
   "cell_type": "markdown",
   "metadata": {},
   "source": [
    "# MLP Approach"
   ]
  },
  {
   "cell_type": "code",
   "execution_count": 43,
   "metadata": {},
   "outputs": [],
   "source": [
    "import torch.nn as nn\n",
    "import torch.nn.functional as F\n",
    "\n",
    "class Net(nn.Module):\n",
    "    def __init__(self):\n",
    "        super(Net, self).__init__()\n",
    "        self.layer1 = nn.Linear(4 * 1632, 2048)\n",
    "        self.bn1 = nn.BatchNorm1d(2048)\n",
    "        \n",
    "        self.layer2 = nn.Linear(2048, 2048)\n",
    "        self.bn2 = nn.BatchNorm1d(2048)\n",
    "        \n",
    "        self.layer3 = nn.Linear(2048, 1024)\n",
    "        self.bn3 = nn.BatchNorm1d(1024)\n",
    "        \n",
    "        self.layer4 = nn.Linear(1024, 512)\n",
    "        self.bn4 = nn.BatchNorm1d(512)\n",
    "        \n",
    "        self.layer5 = nn.Linear(512, 128)\n",
    "        self.bn5 = nn.BatchNorm1d(128)\n",
    "        \n",
    "        self.layer6 = nn.Linear(128, 32)\n",
    "        self.bn6 = nn.BatchNorm1d(32)\n",
    "        \n",
    "        self.layer7 = nn.Linear(32, 16)\n",
    "        self.bn7 = nn.BatchNorm1d(16)\n",
    "        \n",
    "        self.layer8 = nn.Linear(16, 8)\n",
    "        self.bn8 = nn.BatchNorm1d(8)\n",
    "        \n",
    "        self.layer9 = nn.Linear(8, 2)\n",
    "\n",
    "    def forward(self, x):\n",
    "        x = F.relu(self.bn1(self.layer1(x)))\n",
    "        x = F.relu(self.bn2(self.layer2(x)))\n",
    "        x = F.relu(self.bn3(self.layer3(x)))\n",
    "        x = F.relu(self.bn4(self.layer4(x)))\n",
    "        x = F.relu(self.bn5(self.layer5(x)))\n",
    "        x = F.relu(self.bn6(self.layer6(x)))\n",
    "        x = F.relu(self.bn7(self.layer7(x)))\n",
    "        x = F.relu(self.bn8(self.layer8(x)))\n",
    "        x = self.layer9(x)\n",
    "        return x\n",
    "\n",
    "net = Net()\n",
    "\n"
   ]
  },
  {
   "cell_type": "code",
   "execution_count": 49,
   "metadata": {},
   "outputs": [
    {
     "name": "stdout",
     "output_type": "stream",
     "text": [
      "Epoch 1/45, Training Loss: 419.4494\n",
      "Epoch 2/45, Training Loss: 218.0328\n",
      "Epoch 3/45, Training Loss: 102.5800\n",
      "Epoch 4/45, Training Loss: 155.6675\n",
      "Epoch 5/45, Training Loss: 73.6612\n",
      "Epoch 6/45, Training Loss: 70.6932\n",
      "Epoch 7/45, Training Loss: 68.6479\n",
      "Epoch 8/45, Training Loss: 63.5360\n",
      "Epoch 9/45, Training Loss: 59.9777\n",
      "Epoch 10/45, Training Loss: 57.0106\n",
      "Epoch 11/45, Training Loss: 54.7322\n",
      "Epoch 12/45, Training Loss: 52.5575\n",
      "Epoch 13/45, Training Loss: 50.6487\n",
      "Epoch 14/45, Training Loss: 49.0884\n",
      "Epoch 15/45, Training Loss: 48.1922\n",
      "Epoch 16/45, Training Loss: 46.5031\n",
      "Epoch 17/45, Training Loss: 45.7584\n",
      "Epoch 18/45, Training Loss: 43.0999\n",
      "Epoch 19/45, Training Loss: 41.4444\n",
      "Epoch 20/45, Training Loss: 41.0746\n",
      "Epoch 21/45, Training Loss: 42.0847\n",
      "Epoch 22/45, Training Loss: 41.0907\n",
      "Epoch 23/45, Training Loss: 38.3751\n",
      "Epoch 24/45, Training Loss: 37.1079\n",
      "Epoch 25/45, Training Loss: 36.0583\n",
      "Epoch 26/45, Training Loss: 35.3785\n",
      "Epoch 27/45, Training Loss: 34.7598\n",
      "Epoch 28/45, Training Loss: 34.5933\n",
      "Epoch 29/45, Training Loss: 34.2343\n",
      "Epoch 30/45, Training Loss: 33.7054\n",
      "Epoch 31/45, Training Loss: 33.6273\n",
      "Epoch 32/45, Training Loss: 32.6318\n",
      "Epoch 33/45, Training Loss: 32.1439\n",
      "Epoch 34/45, Training Loss: 31.6831\n",
      "Epoch 35/45, Training Loss: 31.3116\n",
      "Epoch 36/45, Training Loss: 31.0211\n",
      "Epoch 37/45, Training Loss: 30.7536\n",
      "Epoch 38/45, Training Loss: 30.5635\n",
      "Epoch 39/45, Training Loss: 30.3812\n",
      "Epoch 40/45, Training Loss: 30.1988\n",
      "Epoch 41/45, Training Loss: 30.0683\n",
      "Epoch 42/45, Training Loss: 29.9375\n",
      "Epoch 43/45, Training Loss: 29.8051\n",
      "Epoch 44/45, Training Loss: 29.7125\n",
      "Epoch 45/45, Training Loss: 29.6203\n",
      "Epoch 1/45, Training Loss: 456.7983\n",
      "Epoch 2/45, Training Loss: 323.9064\n",
      "Epoch 3/45, Training Loss: 253.4336\n",
      "Epoch 4/45, Training Loss: 121.7523\n",
      "Epoch 5/45, Training Loss: 81.9394\n",
      "Epoch 6/45, Training Loss: 86.5647\n",
      "Epoch 7/45, Training Loss: 71.0672\n",
      "Epoch 8/45, Training Loss: 65.0206\n",
      "Epoch 9/45, Training Loss: 62.0008\n",
      "Epoch 10/45, Training Loss: 61.0163\n",
      "Epoch 11/45, Training Loss: 57.2343\n",
      "Epoch 12/45, Training Loss: 55.3317\n",
      "Epoch 13/45, Training Loss: 54.9372\n",
      "Epoch 14/45, Training Loss: 54.9044\n",
      "Epoch 15/45, Training Loss: 51.7936\n",
      "Epoch 16/45, Training Loss: 50.3267\n",
      "Epoch 17/45, Training Loss: 48.3308\n",
      "Epoch 18/45, Training Loss: 49.3629\n",
      "Epoch 19/45, Training Loss: 47.6000\n",
      "Epoch 20/45, Training Loss: 47.0307\n",
      "Epoch 21/45, Training Loss: 44.1036\n",
      "Epoch 22/45, Training Loss: 42.7166\n",
      "Epoch 23/45, Training Loss: 41.7257\n",
      "Epoch 24/45, Training Loss: 40.9010\n",
      "Epoch 25/45, Training Loss: 40.2819\n",
      "Epoch 26/45, Training Loss: 39.7156\n",
      "Epoch 27/45, Training Loss: 39.2196\n",
      "Epoch 28/45, Training Loss: 38.9353\n",
      "Epoch 29/45, Training Loss: 38.2927\n",
      "Epoch 30/45, Training Loss: 37.9232\n",
      "Epoch 31/45, Training Loss: 37.6193\n",
      "Epoch 32/45, Training Loss: 37.2019\n",
      "Epoch 33/45, Training Loss: 36.8825\n",
      "Epoch 34/45, Training Loss: 36.6025\n",
      "Epoch 35/45, Training Loss: 36.3489\n",
      "Epoch 36/45, Training Loss: 36.1485\n",
      "Epoch 37/45, Training Loss: 35.9570\n",
      "Epoch 38/45, Training Loss: 35.8232\n",
      "Epoch 39/45, Training Loss: 35.6936\n",
      "Epoch 40/45, Training Loss: 35.5659\n",
      "Epoch 41/45, Training Loss: 35.4768\n",
      "Epoch 42/45, Training Loss: 35.3875\n",
      "Epoch 43/45, Training Loss: 35.2987\n",
      "Epoch 44/45, Training Loss: 35.2365\n",
      "Epoch 45/45, Training Loss: 35.1743\n"
     ]
    },
    {
     "data": {
      "text/plain": [
       "<All keys matched successfully>"
      ]
     },
     "execution_count": 49,
     "metadata": {},
     "output_type": "execute_result"
    }
   ],
   "source": [
    "import torch.optim as optim\n",
    "import copy\n",
    "from sklearn.model_selection import KFold  \n",
    "import torch.nn.init as init\n",
    "from torch.optim.lr_scheduler import StepLR\n",
    "\n",
    "\n",
    "\n",
    "num_folds = 2\n",
    "kf = KFold(n_splits=num_folds)\n",
    "best_model_states = []\n",
    "best_losses = []\n",
    "torch.autograd.set_detect_anomaly(True)\n",
    "\n",
    "for train_index, valid_index in kf.split(train_data_2d):\n",
    "    # Split the data into training and validation sets for each fold\n",
    "    X_train_fold, X_valid_fold = train_data_2d[train_index], train_data_2d[valid_index]\n",
    "    y_train_fold, y_valid_fold = train_label[train_index], train_label[valid_index]\n",
    "\n",
    "    net = Net() \n",
    "     \n",
    "    for m in net.modules():\n",
    "        if isinstance(m, nn.Linear):\n",
    "            init.kaiming_normal_(m.weight, mode='fan_out', nonlinearity='relu')\n",
    "\n",
    "    optimizer = optim.SGD(net.parameters(), lr=0.065)\n",
    "    scheduler = StepLR(optimizer, step_size=3, gamma=0.7)\n",
    "    criterion = nn.MSELoss()\n",
    "\n",
    "    best_loss = float('inf')  \n",
    "    best_model_state_dict = None\n",
    "\n",
    "    num_epochs = 45\n",
    "\n",
    "    for epoch in range(num_epochs):\n",
    "        optimizer.zero_grad()\n",
    "        output = net(X_train_fold)\n",
    "        loss = criterion(output, y_train_fold)\n",
    "\n",
    "        loss.backward()\n",
    "        optimizer.step()\n",
    "        scheduler.step()\n",
    "        print('Epoch %d/%d, Training Loss: %.4f' % (epoch+1, num_epochs, loss.item()))\n",
    "        \n",
    "        if loss.item() < best_loss:\n",
    "            best_loss = loss.item()\n",
    "            best_model_state_dict = copy.deepcopy(net.state_dict())\n",
    "\n",
    "    best_model_states.append(best_model_state_dict)\n",
    "    best_losses.append(best_loss)\n",
    "\n",
    "best_fold = best_losses.index(min(best_losses))\n",
    "best_model_state_dict = best_model_states[best_fold]\n",
    "net = Net()  # Initialize a new model\n",
    "net.load_state_dict(best_model_state_dict)\n"
   ]
  },
  {
   "cell_type": "code",
   "execution_count": 52,
   "metadata": {},
   "outputs": [
    {
     "name": "stdout",
     "output_type": "stream",
     "text": [
      "Training R-squared: 0.5825699715733607\n",
      "Validation R-squared: 0.5760104893515647\n",
      "Training MSE: 33.934757\n",
      "Validation MSE: 34.80783\n",
      "Training MAE: 4.7948055\n",
      "Validation MAE: 4.858883\n"
     ]
    }
   ],
   "source": [
    "from sklearn.metrics import r2_score\n",
    "from sklearn.metrics import mean_squared_error\n",
    "from sklearn.metrics import mean_absolute_error\n",
    "net.eval()\n",
    "with torch.no_grad():\n",
    "    train_predictions = net(train_data_2d)\n",
    "    test_predictions = net(valid_data_2d)\n",
    "print(\"Training R-squared:\", r2_score(train_label, train_predictions))\n",
    "print(\"Validation R-squared:\", r2_score(valid_label, test_predictions))\n",
    "print(\"Training MSE:\", mean_squared_error(train_label, train_predictions))\n",
    "print(\"Validation MSE:\", mean_squared_error(valid_label, test_predictions))\n",
    "print(\"Training MAE:\", mean_absolute_error(train_label, train_predictions))\n",
    "print(\"Validation MAE:\", mean_absolute_error(valid_label, test_predictions))\n"
   ]
  },
  {
   "cell_type": "code",
   "execution_count": 53,
   "metadata": {},
   "outputs": [
    {
     "data": {
      "image/png": "[encoded data removed]",
      "text/plain": [
       "<Figure size 1000x600 with 1 Axes>"
      ]
     },
     "metadata": {},
     "output_type": "display_data"
    }
   ],
   "source": [
    "plt.figure(figsize=(10, 6))\n",
    "\n",
    "# Plot prediction lines\n",
    "plt.plot(test_predictions[:, 0], label='Prediction X-Pos', color='green', linewidth=.5)\n",
    "plt.scatter(np.arange(len(valid_label)), valid_label[:, 0], label='Valid Labels X-Pos', color='red', marker='o', s=10)\n",
    "plt.plot(test_predictions[:, 1], label='Prediction Y-Pos', color='purple', linewidth=.5)\n",
    "plt.scatter(np.arange(len(valid_label)), valid_label[:, 1], label='Valid Labels Y-Pos', color='blue', marker='s', s=10)\n",
    "\n",
    "# Add labels and legend\n",
    "plt.xlabel('Data Points')\n",
    "plt.ylabel('Values')\n",
    "plt.legend()\n",
    "\n",
    "# Add a title\n",
    "plt.title('Predictions and Valid Labels for 10 random data points')\n",
    "plt.xlim(1000, 1010)\n",
    "# Show the plot\n",
    "plt.show()"
   ]
  }
 ],
 "metadata": {
  "kernelspec": {
   "display_name": "Python 3",
   "language": "python",
   "name": "python3"
  },
  "language_info": {
   "codemirror_mode": {
    "name": "ipython",
    "version": 3
   },
   "file_extension": ".py",
   "mimetype": "text/x-python",
   "name": "python",
   "nbconvert_exporter": "python",
   "pygments_lexer": "ipython3",
   "version": "3.11.6"
  }
 },
 "nbformat": 4,
 "nbformat_minor": 5
}
