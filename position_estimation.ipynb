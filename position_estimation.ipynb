{
 "cells": [
  {
   "cell_type": "markdown",
   "id": "b980fb99",
   "metadata": {},
   "source": [
    "## Import Tools"
   ]
  },
  {
   "cell_type": "code",
   "execution_count": 1,
   "id": "1d18ad08",
   "metadata": {},
   "outputs": [],
   "source": [
    "import torch\n",
    "import torch.nn as nn\n",
    "import numpy as np\n",
    "import scipy.io \n",
    "import random\n",
    "import math\n",
    "import matplotlib.pyplot as plt\n",
    "import torch.nn.functional as F\n",
    "import os\n",
    "os.environ['KMP_DUPLICATE_LIB_OK']='True' \n",
    "from torch.utils.data import TensorDataset\n",
    "from torch.utils.data import DataLoader\n",
    "from sklearn.metrics import accuracy_score"
   ]
  },
  {
   "cell_type": "markdown",
   "id": "8606c205",
   "metadata": {},
   "source": [
    "## Dataset Processing "
   ]
  },
  {
   "cell_type": "markdown",
   "id": "4f2dca00",
   "metadata": {},
   "source": [
    "### Read in the original dataset "
   ]
  },
  {
   "cell_type": "code",
   "execution_count": 2,
   "id": "58c7763d",
   "metadata": {},
   "outputs": [],
   "source": [
    "train_dl_origin = torch.load('Dataset/train_dl.pt')\n",
    "valid_dl_origin = torch.load('Dataset/valid_dl.pt')\n",
    "\n",
    "train_CSI = train_dl_origin.dataset[:][0]\n",
    "train_label = train_dl_origin.dataset[:][1][:,0:2]\n",
    "\n",
    "valid_CSI = valid_dl_origin.dataset[:][0]\n",
    "valid_label = valid_dl_origin.dataset[:][1][:,0:2]"
   ]
  },
  {
   "cell_type": "code",
   "execution_count": 3,
   "id": "0595693c",
   "metadata": {},
   "outputs": [
    {
     "name": "stdout",
     "output_type": "stream",
     "text": [
      "tensor([[-37.2707, -21.4267],\n",
      "        [-38.7407, -16.3757],\n",
      "        [-25.9407, -16.6947],\n",
      "        ...,\n",
      "        [-32.1957, -22.0517],\n",
      "        [-16.1297, -14.0287],\n",
      "        [-37.0697, -16.6887]])\n"
     ]
    }
   ],
   "source": [
    "print(train_label)"
   ]
  },
  {
   "cell_type": "markdown",
   "id": "c7566af9",
   "metadata": {},
   "source": [
    "### CSI Processing: Take Modulus of complex matrices"
   ]
  },
  {
   "cell_type": "code",
   "execution_count": 4,
   "id": "f91b91df",
   "metadata": {},
   "outputs": [],
   "source": [
    "train_CSI_modulus = torch.abs(train_CSI)\n",
    "valid_CSI_modulus = torch.abs(valid_CSI)"
   ]
  },
  {
   "cell_type": "code",
   "execution_count": 5,
   "id": "1257ed76",
   "metadata": {},
   "outputs": [
    {
     "name": "stdout",
     "output_type": "stream",
     "text": [
      "torch.Size([15000, 1, 4, 1632])\n",
      "torch.Size([5000, 1, 4, 1632])\n",
      "torch.Size([15000, 2])\n"
     ]
    }
   ],
   "source": [
    "print(train_CSI_modulus.shape)\n",
    "print(valid_CSI_modulus.shape)\n",
    "print(train_label.shape)"
   ]
  },
  {
   "cell_type": "markdown",
   "id": "0db9fa7c",
   "metadata": {},
   "source": [
    "###  CSI Processing: Normalize to [0,1]"
   ]
  },
  {
   "cell_type": "code",
   "execution_count": 6,
   "id": "9bdd0c7a",
   "metadata": {},
   "outputs": [],
   "source": [
    "# Min-Max Scaling\n",
    "min_value = torch.min(train_CSI_modulus)\n",
    "max_value = torch.max(train_CSI_modulus)\n",
    "\n",
    "normalized_train_CSI_modulus = (train_CSI_modulus - min_value) / (max_value - min_value)\n",
    "normalized_valid_CSI_modulus = (valid_CSI_modulus - min_value) / (max_value - min_value)"
   ]
  },
  {
   "cell_type": "code",
   "execution_count": 7,
   "id": "61d8ed0a",
   "metadata": {},
   "outputs": [],
   "source": [
    "# Convert 4d to 2d\n",
    "train_data_2d = normalized_train_CSI_modulus.view(normalized_train_CSI_modulus.size(0), -1)  # Reshape to (15000, 4 * 1632)\n",
    "valid_data_2d = normalized_valid_CSI_modulus.view(normalized_valid_CSI_modulus.size(0), -1)  # Reshape to (15000, 4 * 1632)"
   ]
  },
  {
   "cell_type": "code",
   "execution_count": 25,
   "metadata": {},
   "outputs": [
    {
     "data": {
      "text/plain": [
       "torch.Size([5000, 6528])"
      ]
     },
     "execution_count": 25,
     "metadata": {},
     "output_type": "execute_result"
    }
   ],
   "source": [
    "train_data_2d.shape\n",
    "valid_data_2d.shape"
   ]
  },
  {
   "cell_type": "markdown",
   "metadata": {},
   "source": [
    "#   ML w/ Linear Regression"
   ]
  },
  {
   "cell_type": "code",
   "execution_count": 8,
   "metadata": {},
   "outputs": [
    {
     "name": "stdout",
     "output_type": "stream",
     "text": [
      "0.9018167298339954\n",
      "0.6891206395129608\n"
     ]
    }
   ],
   "source": [
    "from sklearn.linear_model import LinearRegression\n",
    "# Create the model\n",
    "model = LinearRegression()\n",
    "# Fit the model\n",
    "model.fit(train_data_2d, train_label)\n",
    "# Score the model\n",
    "print(model.score(train_data_2d, train_label))\n",
    "print(model.score(valid_data_2d, valid_label))\n"
   ]
  },
  {
   "cell_type": "code",
   "execution_count": 9,
   "metadata": {},
   "outputs": [],
   "source": [
    "from sklearn.metrics import mean_squared_error\n",
    "train_predictions = model.predict(train_data_2d)\n",
    "valid_predictions = model.predict(valid_data_2d)\n",
    "train_mse = mean_squared_error(train_label, train_predictions)\n",
    "valid_mse = mean_squared_error(valid_label, valid_predictions)"
   ]
  },
  {
   "cell_type": "markdown",
   "metadata": {},
   "source": [
    "### Lets use L1 regularization now\n",
    "- We expect this to perform poorly since all features are equally important"
   ]
  },
  {
   "cell_type": "code",
   "execution_count": 11,
   "metadata": {},
   "outputs": [
    {
     "name": "stderr",
     "output_type": "stream",
     "text": [
      "C:\\Users\\Joey\\AppData\\Local\\Packages\\PythonSoftwareFoundation.Python.3.11_qbz5n2kfra8p0\\LocalCache\\local-packages\\Python311\\site-packages\\sklearn\\linear_model\\_base.py:148: FutureWarning: 'normalize' was deprecated in version 1.0 and will be removed in 1.2. Please leave the normalize parameter to its default value to silence this warning. The default behavior of this estimator is to not do any normalization. If normalization is needed please use sklearn.preprocessing.StandardScaler instead.\n",
      "  warnings.warn(\n"
     ]
    },
    {
     "data": {
      "text/html": [
       "<style>#sk-container-id-1 {color: black;background-color: white;}#sk-container-id-1 pre{padding: 0;}#sk-container-id-1 div.sk-toggleable {background-color: white;}#sk-container-id-1 label.sk-toggleable__label {cursor: pointer;display: block;width: 100%;margin-bottom: 0;padding: 0.3em;box-sizing: border-box;text-align: center;}#sk-container-id-1 label.sk-toggleable__label-arrow:before {content: \"▸\";float: left;margin-right: 0.25em;color: #696969;}#sk-container-id-1 label.sk-toggleable__label-arrow:hover:before {color: black;}#sk-container-id-1 div.sk-estimator:hover label.sk-toggleable__label-arrow:before {color: black;}#sk-container-id-1 div.sk-toggleable__content {max-height: 0;max-width: 0;overflow: hidden;text-align: left;background-color: #f0f8ff;}#sk-container-id-1 div.sk-toggleable__content pre {margin: 0.2em;color: black;border-radius: 0.25em;background-color: #f0f8ff;}#sk-container-id-1 input.sk-toggleable__control:checked~div.sk-toggleable__content {max-height: 200px;max-width: 100%;overflow: auto;}#sk-container-id-1 input.sk-toggleable__control:checked~label.sk-toggleable__label-arrow:before {content: \"▾\";}#sk-container-id-1 div.sk-estimator input.sk-toggleable__control:checked~label.sk-toggleable__label {background-color: #d4ebff;}#sk-container-id-1 div.sk-label input.sk-toggleable__control:checked~label.sk-toggleable__label {background-color: #d4ebff;}#sk-container-id-1 input.sk-hidden--visually {border: 0;clip: rect(1px 1px 1px 1px);clip: rect(1px, 1px, 1px, 1px);height: 1px;margin: -1px;overflow: hidden;padding: 0;position: absolute;width: 1px;}#sk-container-id-1 div.sk-estimator {font-family: monospace;background-color: #f0f8ff;border: 1px dotted black;border-radius: 0.25em;box-sizing: border-box;margin-bottom: 0.5em;}#sk-container-id-1 div.sk-estimator:hover {background-color: #d4ebff;}#sk-container-id-1 div.sk-parallel-item::after {content: \"\";width: 100%;border-bottom: 1px solid gray;flex-grow: 1;}#sk-container-id-1 div.sk-label:hover label.sk-toggleable__label {background-color: #d4ebff;}#sk-container-id-1 div.sk-serial::before {content: \"\";position: absolute;border-left: 1px solid gray;box-sizing: border-box;top: 0;bottom: 0;left: 50%;z-index: 0;}#sk-container-id-1 div.sk-serial {display: flex;flex-direction: column;align-items: center;background-color: white;padding-right: 0.2em;padding-left: 0.2em;position: relative;}#sk-container-id-1 div.sk-item {position: relative;z-index: 1;}#sk-container-id-1 div.sk-parallel {display: flex;align-items: stretch;justify-content: center;background-color: white;position: relative;}#sk-container-id-1 div.sk-item::before, #sk-container-id-1 div.sk-parallel-item::before {content: \"\";position: absolute;border-left: 1px solid gray;box-sizing: border-box;top: 0;bottom: 0;left: 50%;z-index: -1;}#sk-container-id-1 div.sk-parallel-item {display: flex;flex-direction: column;z-index: 1;position: relative;background-color: white;}#sk-container-id-1 div.sk-parallel-item:first-child::after {align-self: flex-end;width: 50%;}#sk-container-id-1 div.sk-parallel-item:last-child::after {align-self: flex-start;width: 50%;}#sk-container-id-1 div.sk-parallel-item:only-child::after {width: 0;}#sk-container-id-1 div.sk-dashed-wrapped {border: 1px dashed gray;margin: 0 0.4em 0.5em 0.4em;box-sizing: border-box;padding-bottom: 0.4em;background-color: white;}#sk-container-id-1 div.sk-label label {font-family: monospace;font-weight: bold;display: inline-block;line-height: 1.2em;}#sk-container-id-1 div.sk-label-container {text-align: center;}#sk-container-id-1 div.sk-container {/* jupyter's `normalize.less` sets `[hidden] { display: none; }` but bootstrap.min.css set `[hidden] { display: none !important; }` so we also need the `!important` here to be able to override the default hidden behavior on the sphinx rendered scikit-learn.org. See: https://github.com/scikit-learn/scikit-learn/issues/21755 */display: inline-block !important;position: relative;}#sk-container-id-1 div.sk-text-repr-fallback {display: none;}</style><div id=\"sk-container-id-1\" class=\"sk-top-container\"><div class=\"sk-text-repr-fallback\"><pre>Lasso(alpha=0.1, normalize=False)</pre><b>In a Jupyter environment, please rerun this cell to show the HTML representation or trust the notebook. <br />On GitHub, the HTML representation is unable to render, please try loading this page with nbviewer.org.</b></div><div class=\"sk-container\" hidden><div class=\"sk-item\"><div class=\"sk-estimator sk-toggleable\"><input class=\"sk-toggleable__control sk-hidden--visually\" id=\"sk-estimator-id-1\" type=\"checkbox\" checked><label for=\"sk-estimator-id-1\" class=\"sk-toggleable__label sk-toggleable__label-arrow\">Lasso</label><div class=\"sk-toggleable__content\"><pre>Lasso(alpha=0.1, normalize=False)</pre></div></div></div></div></div>"
      ],
      "text/plain": [
       "Lasso(alpha=0.1, normalize=False)"
      ]
     },
     "execution_count": 11,
     "metadata": {},
     "output_type": "execute_result"
    }
   ],
   "source": [
    "from sklearn.linear_model import Lasso\n",
    "lasso_model = Lasso(alpha=.1, normalize=False)\n",
    "lasso_model.fit(train_data_2d, train_label)"
   ]
  },
  {
   "cell_type": "code",
   "execution_count": 12,
   "metadata": {},
   "outputs": [
    {
     "name": "stdout",
     "output_type": "stream",
     "text": [
      "Training R-squared: 0.28614985912199603\n",
      "Validation R-squared: 0.28412069940421636\n"
     ]
    }
   ],
   "source": [
    "train_score = lasso_model.score(train_data_2d, train_label)\n",
    "valid_score = lasso_model.score(valid_data_2d, valid_label)\n",
    "\n",
    "print(\"Training R-squared:\", train_score)\n",
    "print(\"Validation R-squared:\", valid_score)"
   ]
  },
  {
   "cell_type": "code",
   "execution_count": 13,
   "metadata": {},
   "outputs": [],
   "source": [
    "train_predictions_l = lasso_model.predict(train_data_2d)\n",
    "valid_predictions_l = lasso_model.predict(valid_data_2d)\n",
    "train_mse_l = mean_squared_error(train_label, train_predictions_l)\n",
    "valid_mse_l = mean_squared_error(valid_label, valid_predictions_l)"
   ]
  },
  {
   "cell_type": "code",
   "execution_count": 14,
   "metadata": {},
   "outputs": [
    {
     "data": {
      "image/png": "[encoded data removed]",
      "text/plain": [
       "<Figure size 640x480 with 1 Axes>"
      ]
     },
     "metadata": {},
     "output_type": "display_data"
    }
   ],
   "source": [
    "mse_values = [train_mse, train_mse_l, valid_mse, valid_mse_l]  \n",
    "case_labels = ['Lin Reg Train', 'Lasso Train', 'Line Reg Valid', 'Lasso Valid']  \n",
    "\n",
    "plt.bar(case_labels, mse_values, color='blue')\n",
    "plt.xlabel('Cases')\n",
    "plt.ylabel('Mean Squared Error (MSE)')\n",
    "plt.title('MSE for Different Cases')\n",
    "\n",
    "plt.show()"
   ]
  },
  {
   "cell_type": "markdown",
   "metadata": {},
   "source": [
    "# MLP Approach"
   ]
  },
  {
   "cell_type": "code",
   "execution_count": 35,
   "metadata": {},
   "outputs": [],
   "source": [
    "class Net(nn.Module):\n",
    "    def __init__(self):\n",
    "        super().__init__()\n",
    "        self.layer1 = nn.Linear(4*1632, 500)  # input layer (4*1632 nodes) -> hidden layer (100 nodes)\n",
    "        self.layer2 = nn.Linear(500, 500)  # hidden layer (100 nodes) -> hidden layer (100 nodes)\n",
    "        self.layer3 = nn.Linear(500, 100)  # hidden layer (100 nodes) -> hidden layer (100 nodes)\n",
    "        self.layer4 = nn.Linear(100, 2)  # hidden layer (100 nodes) -> output layer (2 nodes)\n",
    "\n",
    "    def forward(self, x):\n",
    "        return self.layer4(F.relu(self.layer3(F.relu(self.layer2(F.relu(self.layer1(x)))))))\n",
    "\n",
    "net = Net()"
   ]
  },
  {
   "cell_type": "code",
   "execution_count": 36,
   "metadata": {},
   "outputs": [],
   "source": [
    "import torch.optim as optim\n",
    "\n",
    "criterion = nn.MSELoss()  # Example loss function for regression\n",
    "optimizer = optim.SGD(net.parameters(), lr=0.01)  # Example optimizer"
   ]
  },
  {
   "cell_type": "code",
   "execution_count": 37,
   "metadata": {},
   "outputs": [
    {
     "name": "stderr",
     "output_type": "stream",
     "text": [
      "C:\\Users\\Joey\\AppData\\Local\\Temp\\ipykernel_26672\\1414316764.py:1: UserWarning: To copy construct from a tensor, it is recommended to use sourceTensor.clone().detach() or sourceTensor.clone().detach().requires_grad_(True), rather than torch.tensor(sourceTensor).\n",
      "  train_data_2d = torch.tensor(train_data_2d, dtype=torch.float32)\n"
     ]
    },
    {
     "name": "stdout",
     "output_type": "stream",
     "text": [
      "Epoch [1/100], Loss: 382.4122314453125\n",
      "Epoch [2/100], Loss: 375.0832214355469\n",
      "Epoch [3/100], Loss: 367.7294006347656\n",
      "Epoch [4/100], Loss: 358.0617980957031\n",
      "Epoch [5/100], Loss: 339.6568908691406\n",
      "Epoch [6/100], Loss: 274.2060241699219\n",
      "Epoch [7/100], Loss: 1067.10400390625\n",
      "Epoch [8/100], Loss: 361.3076477050781\n",
      "Epoch [9/100], Loss: 356.3495788574219\n",
      "Epoch [10/100], Loss: 346.3618469238281\n",
      "Epoch [11/100], Loss: 338.71881103515625\n",
      "Epoch [12/100], Loss: 324.2817687988281\n",
      "Epoch [13/100], Loss: 277.99468994140625\n",
      "Epoch [14/100], Loss: 390.79248046875\n",
      "Epoch [15/100], Loss: 331.1980285644531\n",
      "Epoch [16/100], Loss: 326.63702392578125\n",
      "Epoch [17/100], Loss: 322.1578674316406\n",
      "Epoch [18/100], Loss: 317.74365234375\n",
      "Epoch [19/100], Loss: 313.3751525878906\n",
      "Epoch [20/100], Loss: 309.0205383300781\n",
      "Epoch [21/100], Loss: 304.627197265625\n",
      "Epoch [22/100], Loss: 300.1068115234375\n",
      "Epoch [23/100], Loss: 295.31036376953125\n",
      "Epoch [24/100], Loss: 289.9850769042969\n",
      "Epoch [25/100], Loss: 283.69305419921875\n",
      "Epoch [26/100], Loss: 275.67706298828125\n",
      "Epoch [27/100], Loss: 264.57415771484375\n",
      "Epoch [28/100], Loss: 247.55990600585938\n",
      "Epoch [29/100], Loss: 216.55252075195312\n",
      "Epoch [30/100], Loss: 160.3006134033203\n",
      "Epoch [31/100], Loss: 145.78811645507812\n",
      "Epoch [32/100], Loss: 135.22743225097656\n",
      "Epoch [33/100], Loss: 134.62338256835938\n",
      "Epoch [34/100], Loss: 105.6119155883789\n",
      "Epoch [35/100], Loss: 103.35418701171875\n",
      "Epoch [36/100], Loss: 103.21734619140625\n",
      "Epoch [37/100], Loss: 103.19145202636719\n",
      "Epoch [38/100], Loss: 103.18257141113281\n",
      "Epoch [39/100], Loss: 103.10765838623047\n",
      "Epoch [40/100], Loss: 102.26414489746094\n",
      "Epoch [41/100], Loss: 96.28822326660156\n",
      "Epoch [42/100], Loss: 90.30427551269531\n",
      "Epoch [43/100], Loss: 149.8011932373047\n",
      "Epoch [44/100], Loss: 130.46414184570312\n",
      "Epoch [45/100], Loss: 104.6939926147461\n",
      "Epoch [46/100], Loss: 103.24039459228516\n",
      "Epoch [47/100], Loss: 103.18746948242188\n",
      "Epoch [48/100], Loss: 103.13599395751953\n",
      "Epoch [49/100], Loss: 102.70364379882812\n",
      "Epoch [50/100], Loss: 98.47425079345703\n",
      "Epoch [51/100], Loss: 96.2602310180664\n",
      "Epoch [52/100], Loss: 142.94606018066406\n",
      "Epoch [53/100], Loss: 124.33931732177734\n",
      "Epoch [54/100], Loss: 103.84019470214844\n",
      "Epoch [55/100], Loss: 103.17172241210938\n",
      "Epoch [56/100], Loss: 102.5995864868164\n",
      "Epoch [57/100], Loss: 97.96495819091797\n",
      "Epoch [58/100], Loss: 97.19625854492188\n",
      "Epoch [59/100], Loss: 144.4465789794922\n",
      "Epoch [60/100], Loss: 124.50650024414062\n",
      "Epoch [61/100], Loss: 103.9549331665039\n",
      "Epoch [62/100], Loss: 103.21597290039062\n",
      "Epoch [63/100], Loss: 103.18692779541016\n",
      "Epoch [64/100], Loss: 103.18401336669922\n",
      "Epoch [65/100], Loss: 103.1836166381836\n",
      "Epoch [66/100], Loss: 103.18341064453125\n",
      "Epoch [67/100], Loss: 103.18323516845703\n",
      "Epoch [68/100], Loss: 103.18303680419922\n",
      "Epoch [69/100], Loss: 103.18279266357422\n",
      "Epoch [70/100], Loss: 103.18240356445312\n",
      "Epoch [71/100], Loss: 103.18144226074219\n",
      "Epoch [72/100], Loss: 103.1788101196289\n",
      "Epoch [73/100], Loss: 103.17726135253906\n",
      "Epoch [74/100], Loss: 103.18043518066406\n",
      "Epoch [75/100], Loss: 103.18170928955078\n",
      "Epoch [76/100], Loss: 103.18106842041016\n",
      "Epoch [77/100], Loss: 103.17922973632812\n",
      "Epoch [78/100], Loss: 103.17558288574219\n",
      "Epoch [79/100], Loss: 103.18144989013672\n",
      "Epoch [80/100], Loss: 103.1808853149414\n",
      "Epoch [81/100], Loss: 103.1792984008789\n",
      "Epoch [82/100], Loss: 103.18482208251953\n",
      "Epoch [83/100], Loss: 103.18089294433594\n",
      "Epoch [84/100], Loss: 103.1804428100586\n",
      "Epoch [85/100], Loss: 103.17997741699219\n",
      "Epoch [86/100], Loss: 103.17996978759766\n",
      "Epoch [87/100], Loss: 103.17891693115234\n",
      "Epoch [88/100], Loss: 103.17639923095703\n",
      "Epoch [89/100], Loss: 103.16453552246094\n",
      "Epoch [90/100], Loss: 103.26385498046875\n",
      "Epoch [91/100], Loss: 103.1805191040039\n",
      "Epoch [92/100], Loss: 103.1775894165039\n",
      "Epoch [93/100], Loss: 103.17632293701172\n",
      "Epoch [94/100], Loss: 103.1750259399414\n",
      "Epoch [95/100], Loss: 103.17536926269531\n",
      "Epoch [96/100], Loss: 103.18461608886719\n",
      "Epoch [97/100], Loss: 103.1792221069336\n",
      "Epoch [98/100], Loss: 103.17800903320312\n",
      "Epoch [99/100], Loss: 103.17568969726562\n",
      "Epoch [100/100], Loss: 103.1783218383789\n"
     ]
    }
   ],
   "source": [
    "train_data_2d = torch.tensor(train_data_2d, dtype=torch.float32)\n",
    "train_label = torch.tensor(train_label, dtype=torch.float32)\n",
    "\n",
    "num_epochs = 100\n",
    "for epoch in range(num_epochs):\n",
    "    optimizer.zero_grad()\n",
    "    output = net(train_data_2d)\n",
    "    loss = criterion(output, train_label)\n",
    "    loss.backward()\n",
    "    optimizer.step()\n",
    "    print(f'Epoch [{epoch + 1}/{num_epochs}], Loss: {loss.item()}')"
   ]
  },
  {
   "cell_type": "markdown",
   "metadata": {},
   "source": [
    "### A low r^2 value is indicative of poor performance"
   ]
  },
  {
   "cell_type": "code",
   "execution_count": 39,
   "metadata": {},
   "outputs": [
    {
     "name": "stdout",
     "output_type": "stream",
     "text": [
      "Training R-squared: 1.57096027612047e-05\n",
      "Validation R-squared: -0.0001931691991089446\n"
     ]
    }
   ],
   "source": [
    "#Evaluate the accuracy of the model\n",
    "from sklearn.metrics import r2_score\n",
    "net.eval()\n",
    "with torch.no_grad():\n",
    "    train_predictions = net(train_data_2d)\n",
    "    test_predictions = net(valid_data_2d)\n",
    "print(\"Training R-squared:\", r2_score(train_label, train_predictions))\n",
    "print(\"Validation R-squared:\", r2_score(valid_label, test_predictions))\n"
   ]
  }
 ],
 "metadata": {
  "kernelspec": {
   "display_name": "Python 3",
   "language": "python",
   "name": "python3"
  },
  "language_info": {
   "codemirror_mode": {
    "name": "ipython",
    "version": 3
   },
   "file_extension": ".py",
   "mimetype": "text/x-python",
   "name": "python",
   "nbconvert_exporter": "python",
   "pygments_lexer": "ipython3",
   "version": "3.11.6"
  }
 },
 "nbformat": 4,
 "nbformat_minor": 5
}
