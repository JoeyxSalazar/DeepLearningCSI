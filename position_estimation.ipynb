{
 "cells": [
  {
   "cell_type": "markdown",
   "id": "b980fb99",
   "metadata": {},
   "source": [
    "## Import Tools"
   ]
  },
  {
   "cell_type": "code",
   "execution_count": 1,
   "id": "1d18ad08",
   "metadata": {},
   "outputs": [],
   "source": [
    "import torch\n",
    "import torch.nn as nn\n",
    "import numpy as np\n",
    "import scipy.io \n",
    "import random\n",
    "import math\n",
    "import matplotlib.pyplot as plt\n",
    "import torch.nn.functional as F\n",
    "import os\n",
    "os.environ['KMP_DUPLICATE_LIB_OK']='True' \n",
    "from torch.utils.data import TensorDataset\n",
    "from torch.utils.data import DataLoader\n",
    "from sklearn.metrics import accuracy_score"
   ]
  },
  {
   "cell_type": "markdown",
   "id": "8606c205",
   "metadata": {},
   "source": [
    "## Dataset Processing "
   ]
  },
  {
   "cell_type": "markdown",
   "id": "4f2dca00",
   "metadata": {},
   "source": [
    "### Read in the original dataset "
   ]
  },
  {
   "cell_type": "code",
   "execution_count": 2,
   "id": "58c7763d",
   "metadata": {},
   "outputs": [],
   "source": [
    "train_dl_origin = torch.load('Dataset/train_dl.pt')\n",
    "valid_dl_origin = torch.load('Dataset/valid_dl.pt')\n",
    "\n",
    "train_CSI = train_dl_origin.dataset[:][0]\n",
    "train_label = train_dl_origin.dataset[:][1][:,0:2]\n",
    "\n",
    "valid_CSI = valid_dl_origin.dataset[:][0]\n",
    "valid_label = valid_dl_origin.dataset[:][1][:,0:2]"
   ]
  },
  {
   "cell_type": "code",
   "execution_count": 3,
   "id": "0595693c",
   "metadata": {},
   "outputs": [
    {
     "name": "stdout",
     "output_type": "stream",
     "text": [
      "tensor([[-37.2707, -21.4267],\n",
      "        [-38.7407, -16.3757],\n",
      "        [-25.9407, -16.6947],\n",
      "        ...,\n",
      "        [-32.1957, -22.0517],\n",
      "        [-16.1297, -14.0287],\n",
      "        [-37.0697, -16.6887]])\n"
     ]
    }
   ],
   "source": [
    "print(train_label)"
   ]
  },
  {
   "cell_type": "markdown",
   "id": "c7566af9",
   "metadata": {},
   "source": [
    "### CSI Processing: Take Modulus of complex matrices"
   ]
  },
  {
   "cell_type": "code",
   "execution_count": 4,
   "id": "f91b91df",
   "metadata": {},
   "outputs": [],
   "source": [
    "train_CSI_modulus = torch.abs(train_CSI)\n",
    "valid_CSI_modulus = torch.abs(valid_CSI)"
   ]
  },
  {
   "cell_type": "code",
   "execution_count": 5,
   "id": "1257ed76",
   "metadata": {},
   "outputs": [
    {
     "name": "stdout",
     "output_type": "stream",
     "text": [
      "torch.Size([15000, 1, 4, 1632])\n",
      "torch.Size([5000, 1, 4, 1632])\n",
      "torch.Size([15000, 2])\n",
      "torch.Size([5000, 2])\n"
     ]
    }
   ],
   "source": [
    "print(train_CSI_modulus.shape)\n",
    "print(valid_CSI_modulus.shape)\n",
    "print(train_label.shape)\n",
    "print(valid_label.shape)"
   ]
  },
  {
   "cell_type": "markdown",
   "id": "0db9fa7c",
   "metadata": {},
   "source": [
    "###  CSI Processing: Normalize to [0,1]"
   ]
  },
  {
   "cell_type": "code",
   "execution_count": 6,
   "id": "9bdd0c7a",
   "metadata": {},
   "outputs": [],
   "source": [
    "# Min-Max Scaling\n",
    "min_value = torch.min(train_CSI_modulus)\n",
    "max_value = torch.max(train_CSI_modulus)\n",
    "\n",
    "normalized_train_CSI_modulus = (train_CSI_modulus - min_value) / (max_value - min_value)\n",
    "normalized_valid_CSI_modulus = (valid_CSI_modulus - min_value) / (max_value - min_value)"
   ]
  },
  {
   "cell_type": "code",
   "execution_count": 7,
   "id": "61d8ed0a",
   "metadata": {},
   "outputs": [],
   "source": [
    "# Convert 4d to 2d\n",
    "train_data_2d = normalized_train_CSI_modulus.view(normalized_train_CSI_modulus.size(0), -1)  # Reshape to (15000, 4 * 1632)\n",
    "valid_data_2d = normalized_valid_CSI_modulus.view(normalized_valid_CSI_modulus.size(0), -1)  # Reshape to (15000, 4 * 1632)"
   ]
  },
  {
   "cell_type": "code",
   "execution_count": 8,
   "metadata": {},
   "outputs": [
    {
     "data": {
      "text/plain": [
       "torch.Size([5000, 6528])"
      ]
     },
     "execution_count": 8,
     "metadata": {},
     "output_type": "execute_result"
    }
   ],
   "source": [
    "train_data_2d.shape\n",
    "valid_data_2d.shape"
   ]
  },
  {
   "cell_type": "markdown",
   "metadata": {},
   "source": [
    "#   ML w/ Linear Regression"
   ]
  },
  {
   "cell_type": "code",
   "execution_count": 8,
   "metadata": {},
   "outputs": [
    {
     "name": "stdout",
     "output_type": "stream",
     "text": [
      "0.9018167298339954\n",
      "0.6891206395129608\n"
     ]
    }
   ],
   "source": [
    "from sklearn.linear_model import LinearRegression\n",
    "# Create the model\n",
    "model = LinearRegression()\n",
    "# Fit the model\n",
    "model.fit(train_data_2d, train_label)\n",
    "# Score the model\n",
    "print(model.score(train_data_2d, train_label))\n",
    "print(model.score(valid_data_2d, valid_label))\n"
   ]
  },
  {
   "cell_type": "code",
   "execution_count": 9,
   "metadata": {},
   "outputs": [],
   "source": [
    "from sklearn.metrics import mean_squared_error\n",
    "train_predictions = model.predict(train_data_2d)\n",
    "valid_predictions = model.predict(valid_data_2d)\n",
    "train_mse = mean_squared_error(train_label, train_predictions)\n",
    "valid_mse = mean_squared_error(valid_label, valid_predictions)"
   ]
  },
  {
   "cell_type": "markdown",
   "metadata": {},
   "source": [
    "### Lets use L1 regularization now\n",
    "- We expect this to perform poorly since all features are equally important"
   ]
  },
  {
   "cell_type": "code",
   "execution_count": 11,
   "metadata": {},
   "outputs": [
    {
     "name": "stderr",
     "output_type": "stream",
     "text": [
      "C:\\Users\\Joey\\AppData\\Local\\Packages\\PythonSoftwareFoundation.Python.3.11_qbz5n2kfra8p0\\LocalCache\\local-packages\\Python311\\site-packages\\sklearn\\linear_model\\_base.py:148: FutureWarning: 'normalize' was deprecated in version 1.0 and will be removed in 1.2. Please leave the normalize parameter to its default value to silence this warning. The default behavior of this estimator is to not do any normalization. If normalization is needed please use sklearn.preprocessing.StandardScaler instead.\n",
      "  warnings.warn(\n"
     ]
    },
    {
     "data": {
      "text/html": [
       "<style>#sk-container-id-1 {color: black;background-color: white;}#sk-container-id-1 pre{padding: 0;}#sk-container-id-1 div.sk-toggleable {background-color: white;}#sk-container-id-1 label.sk-toggleable__label {cursor: pointer;display: block;width: 100%;margin-bottom: 0;padding: 0.3em;box-sizing: border-box;text-align: center;}#sk-container-id-1 label.sk-toggleable__label-arrow:before {content: \"▸\";float: left;margin-right: 0.25em;color: #696969;}#sk-container-id-1 label.sk-toggleable__label-arrow:hover:before {color: black;}#sk-container-id-1 div.sk-estimator:hover label.sk-toggleable__label-arrow:before {color: black;}#sk-container-id-1 div.sk-toggleable__content {max-height: 0;max-width: 0;overflow: hidden;text-align: left;background-color: #f0f8ff;}#sk-container-id-1 div.sk-toggleable__content pre {margin: 0.2em;color: black;border-radius: 0.25em;background-color: #f0f8ff;}#sk-container-id-1 input.sk-toggleable__control:checked~div.sk-toggleable__content {max-height: 200px;max-width: 100%;overflow: auto;}#sk-container-id-1 input.sk-toggleable__control:checked~label.sk-toggleable__label-arrow:before {content: \"▾\";}#sk-container-id-1 div.sk-estimator input.sk-toggleable__control:checked~label.sk-toggleable__label {background-color: #d4ebff;}#sk-container-id-1 div.sk-label input.sk-toggleable__control:checked~label.sk-toggleable__label {background-color: #d4ebff;}#sk-container-id-1 input.sk-hidden--visually {border: 0;clip: rect(1px 1px 1px 1px);clip: rect(1px, 1px, 1px, 1px);height: 1px;margin: -1px;overflow: hidden;padding: 0;position: absolute;width: 1px;}#sk-container-id-1 div.sk-estimator {font-family: monospace;background-color: #f0f8ff;border: 1px dotted black;border-radius: 0.25em;box-sizing: border-box;margin-bottom: 0.5em;}#sk-container-id-1 div.sk-estimator:hover {background-color: #d4ebff;}#sk-container-id-1 div.sk-parallel-item::after {content: \"\";width: 100%;border-bottom: 1px solid gray;flex-grow: 1;}#sk-container-id-1 div.sk-label:hover label.sk-toggleable__label {background-color: #d4ebff;}#sk-container-id-1 div.sk-serial::before {content: \"\";position: absolute;border-left: 1px solid gray;box-sizing: border-box;top: 0;bottom: 0;left: 50%;z-index: 0;}#sk-container-id-1 div.sk-serial {display: flex;flex-direction: column;align-items: center;background-color: white;padding-right: 0.2em;padding-left: 0.2em;position: relative;}#sk-container-id-1 div.sk-item {position: relative;z-index: 1;}#sk-container-id-1 div.sk-parallel {display: flex;align-items: stretch;justify-content: center;background-color: white;position: relative;}#sk-container-id-1 div.sk-item::before, #sk-container-id-1 div.sk-parallel-item::before {content: \"\";position: absolute;border-left: 1px solid gray;box-sizing: border-box;top: 0;bottom: 0;left: 50%;z-index: -1;}#sk-container-id-1 div.sk-parallel-item {display: flex;flex-direction: column;z-index: 1;position: relative;background-color: white;}#sk-container-id-1 div.sk-parallel-item:first-child::after {align-self: flex-end;width: 50%;}#sk-container-id-1 div.sk-parallel-item:last-child::after {align-self: flex-start;width: 50%;}#sk-container-id-1 div.sk-parallel-item:only-child::after {width: 0;}#sk-container-id-1 div.sk-dashed-wrapped {border: 1px dashed gray;margin: 0 0.4em 0.5em 0.4em;box-sizing: border-box;padding-bottom: 0.4em;background-color: white;}#sk-container-id-1 div.sk-label label {font-family: monospace;font-weight: bold;display: inline-block;line-height: 1.2em;}#sk-container-id-1 div.sk-label-container {text-align: center;}#sk-container-id-1 div.sk-container {/* jupyter's `normalize.less` sets `[hidden] { display: none; }` but bootstrap.min.css set `[hidden] { display: none !important; }` so we also need the `!important` here to be able to override the default hidden behavior on the sphinx rendered scikit-learn.org. See: https://github.com/scikit-learn/scikit-learn/issues/21755 */display: inline-block !important;position: relative;}#sk-container-id-1 div.sk-text-repr-fallback {display: none;}</style><div id=\"sk-container-id-1\" class=\"sk-top-container\"><div class=\"sk-text-repr-fallback\"><pre>Lasso(alpha=0.1, normalize=False)</pre><b>In a Jupyter environment, please rerun this cell to show the HTML representation or trust the notebook. <br />On GitHub, the HTML representation is unable to render, please try loading this page with nbviewer.org.</b></div><div class=\"sk-container\" hidden><div class=\"sk-item\"><div class=\"sk-estimator sk-toggleable\"><input class=\"sk-toggleable__control sk-hidden--visually\" id=\"sk-estimator-id-1\" type=\"checkbox\" checked><label for=\"sk-estimator-id-1\" class=\"sk-toggleable__label sk-toggleable__label-arrow\">Lasso</label><div class=\"sk-toggleable__content\"><pre>Lasso(alpha=0.1, normalize=False)</pre></div></div></div></div></div>"
      ],
      "text/plain": [
       "Lasso(alpha=0.1, normalize=False)"
      ]
     },
     "execution_count": 11,
     "metadata": {},
     "output_type": "execute_result"
    }
   ],
   "source": [
    "from sklearn.linear_model import Lasso\n",
    "lasso_model = Lasso(alpha=.1, normalize=False)\n",
    "lasso_model.fit(train_data_2d, train_label)"
   ]
  },
  {
   "cell_type": "code",
   "execution_count": 12,
   "metadata": {},
   "outputs": [
    {
     "name": "stdout",
     "output_type": "stream",
     "text": [
      "Training R-squared: 0.28614985912199603\n",
      "Validation R-squared: 0.28412069940421636\n"
     ]
    }
   ],
   "source": [
    "train_score = lasso_model.score(train_data_2d, train_label)\n",
    "valid_score = lasso_model.score(valid_data_2d, valid_label)\n",
    "\n",
    "print(\"Training R-squared:\", train_score)\n",
    "print(\"Validation R-squared:\", valid_score)"
   ]
  },
  {
   "cell_type": "code",
   "execution_count": 13,
   "metadata": {},
   "outputs": [],
   "source": [
    "train_predictions_l = lasso_model.predict(train_data_2d)\n",
    "valid_predictions_l = lasso_model.predict(valid_data_2d)\n",
    "train_mse_l = mean_squared_error(train_label, train_predictions_l)\n",
    "valid_mse_l = mean_squared_error(valid_label, valid_predictions_l)\n"
   ]
  },
  {
   "cell_type": "code",
   "execution_count": 14,
   "metadata": {},
   "outputs": [
    {
     "data": {
      "image/png": "[encoded data removed]",
      "text/plain": [
       "<Figure size 640x480 with 1 Axes>"
      ]
     },
     "metadata": {},
     "output_type": "display_data"
    }
   ],
   "source": [
    "mse_values = [train_mse, train_mse_l, valid_mse, valid_mse_l]  \n",
    "case_labels = ['Lin Reg Train', 'Lasso Train', 'Line Reg Valid', 'Lasso Valid']  \n",
    "\n",
    "plt.bar(case_labels, mse_values, color='blue')\n",
    "plt.xlabel('Cases')\n",
    "plt.ylabel('Mean Squared Error (MSE)')\n",
    "plt.title('MSE for Different Cases')\n",
    "\n",
    "plt.show()"
   ]
  },
  {
   "cell_type": "markdown",
   "metadata": {},
   "source": [
    "# MLP Approach"
   ]
  },
  {
   "cell_type": "code",
   "execution_count": 43,
   "metadata": {},
   "outputs": [],
   "source": [
    "import torch.nn as nn\n",
    "import torch.nn.functional as F\n",
    "\n",
    "class Net(nn.Module):\n",
    "    def __init__(self):\n",
    "        super(Net, self).__init__()\n",
    "        self.layer1 = nn.Linear(4 * 1632, 2048)\n",
    "        self.bn1 = nn.BatchNorm1d(2048)\n",
    "        \n",
    "        self.layer2 = nn.Linear(2048, 2048)\n",
    "        self.bn2 = nn.BatchNorm1d(2048)\n",
    "        \n",
    "        self.layer3 = nn.Linear(2048, 1024)\n",
    "        self.bn3 = nn.BatchNorm1d(1024)\n",
    "        \n",
    "        self.layer4 = nn.Linear(1024, 512)\n",
    "        self.bn4 = nn.BatchNorm1d(512)\n",
    "        \n",
    "        self.layer5 = nn.Linear(512, 128)\n",
    "        self.bn5 = nn.BatchNorm1d(128)\n",
    "        \n",
    "        self.layer6 = nn.Linear(128, 32)\n",
    "        self.bn6 = nn.BatchNorm1d(32)\n",
    "        \n",
    "        self.layer7 = nn.Linear(32, 16)\n",
    "        self.bn7 = nn.BatchNorm1d(16)\n",
    "        \n",
    "        self.layer8 = nn.Linear(16, 8)\n",
    "        self.bn8 = nn.BatchNorm1d(8)\n",
    "        \n",
    "        self.layer9 = nn.Linear(8, 2)\n",
    "\n",
    "    def forward(self, x):\n",
    "        x = F.relu(self.bn1(self.layer1(x)))\n",
    "        x = F.relu(self.bn2(self.layer2(x)))\n",
    "        x = F.relu(self.bn3(self.layer3(x)))\n",
    "        x = F.relu(self.bn4(self.layer4(x)))\n",
    "        x = F.relu(self.bn5(self.layer5(x)))\n",
    "        x = F.relu(self.bn6(self.layer6(x)))\n",
    "        x = F.relu(self.bn7(self.layer7(x)))\n",
    "        x = F.relu(self.bn8(self.layer8(x)))\n",
    "        x = self.layer9(x)\n",
    "        return x\n",
    "\n",
    "net = Net()\n",
    "\n"
   ]
  },
  {
   "cell_type": "code",
   "execution_count": 54,
   "metadata": {},
   "outputs": [
    {
     "name": "stdout",
     "output_type": "stream",
     "text": [
      "Epoch 1/100, Training Loss: 410.3854\n",
      "Epoch 2/100, Training Loss: 241.6878\n",
      "Epoch 3/100, Training Loss: 81.8378\n",
      "Epoch 4/100, Training Loss: 69.0419\n",
      "Epoch 5/100, Training Loss: 77.8621\n",
      "Epoch 6/100, Training Loss: 60.2705\n",
      "Epoch 7/100, Training Loss: 56.0107\n",
      "Epoch 8/100, Training Loss: 52.7115\n",
      "Epoch 9/100, Training Loss: 50.8508\n",
      "Epoch 10/100, Training Loss: 50.5624\n",
      "Epoch 11/100, Training Loss: 49.6448\n",
      "Epoch 12/100, Training Loss: 46.8176\n",
      "Epoch 13/100, Training Loss: 47.7815\n",
      "Epoch 14/100, Training Loss: 43.7615\n",
      "Epoch 15/100, Training Loss: 41.5558\n",
      "Epoch 16/100, Training Loss: 39.9223\n",
      "Epoch 17/100, Training Loss: 39.3704\n",
      "Epoch 18/100, Training Loss: 40.6547\n",
      "Epoch 19/100, Training Loss: 40.9170\n",
      "Epoch 20/100, Training Loss: 37.0198\n",
      "Epoch 21/100, Training Loss: 35.4888\n",
      "Epoch 22/100, Training Loss: 34.8994\n",
      "Epoch 23/100, Training Loss: 33.6392\n",
      "Epoch 24/100, Training Loss: 32.9765\n",
      "Epoch 25/100, Training Loss: 32.2358\n",
      "Epoch 26/100, Training Loss: 31.6490\n",
      "Epoch 27/100, Training Loss: 30.7113\n",
      "Epoch 28/100, Training Loss: 30.0657\n",
      "Epoch 29/100, Training Loss: 29.5515\n",
      "Epoch 30/100, Training Loss: 29.1577\n",
      "Epoch 31/100, Training Loss: 28.8188\n",
      "Epoch 32/100, Training Loss: 28.5251\n",
      "Epoch 33/100, Training Loss: 28.2065\n",
      "Epoch 34/100, Training Loss: 27.9755\n",
      "Epoch 35/100, Training Loss: 27.6062\n",
      "Epoch 36/100, Training Loss: 27.3664\n",
      "Epoch 37/100, Training Loss: 27.1466\n",
      "Epoch 38/100, Training Loss: 26.9836\n",
      "Epoch 39/100, Training Loss: 26.8245\n",
      "Epoch 40/100, Training Loss: 26.6640\n",
      "Epoch 41/100, Training Loss: 26.5512\n",
      "Epoch 42/100, Training Loss: 26.4385\n",
      "Epoch 43/100, Training Loss: 26.3266\n",
      "Epoch 44/100, Training Loss: 26.2485\n",
      "Epoch 45/100, Training Loss: 26.1704\n",
      "Epoch 46/100, Training Loss: 26.0925\n",
      "Epoch 47/100, Training Loss: 26.0381\n",
      "Epoch 48/100, Training Loss: 25.9835\n",
      "Epoch 49/100, Training Loss: 25.9288\n",
      "Epoch 50/100, Training Loss: 25.8904\n",
      "Epoch 51/100, Training Loss: 25.8519\n",
      "Epoch 52/100, Training Loss: 25.8137\n",
      "Epoch 53/100, Training Loss: 25.7870\n",
      "Epoch 54/100, Training Loss: 25.7604\n",
      "Epoch 55/100, Training Loss: 25.7338\n",
      "Epoch 56/100, Training Loss: 25.7151\n",
      "Epoch 57/100, Training Loss: 25.6964\n",
      "Epoch 58/100, Training Loss: 25.6777\n",
      "Epoch 59/100, Training Loss: 25.6645\n",
      "Epoch 60/100, Training Loss: 25.6514\n",
      "Epoch 61/100, Training Loss: 25.6382\n",
      "Epoch 62/100, Training Loss: 25.6290\n",
      "Epoch 63/100, Training Loss: 25.6197\n",
      "Epoch 64/100, Training Loss: 25.6105\n",
      "Epoch 65/100, Training Loss: 25.6041\n",
      "Epoch 66/100, Training Loss: 25.5976\n",
      "Epoch 67/100, Training Loss: 25.5912\n",
      "Epoch 68/100, Training Loss: 25.5867\n",
      "Epoch 69/100, Training Loss: 25.5822\n",
      "Epoch 70/100, Training Loss: 25.5777\n",
      "Epoch 71/100, Training Loss: 25.5745\n",
      "Epoch 72/100, Training Loss: 25.5714\n",
      "Epoch 73/100, Training Loss: 25.5682\n",
      "Epoch 74/100, Training Loss: 25.5660\n",
      "Epoch 75/100, Training Loss: 25.5638\n",
      "Epoch 76/100, Training Loss: 25.5616\n",
      "Epoch 77/100, Training Loss: 25.5600\n",
      "Epoch 78/100, Training Loss: 25.5585\n",
      "Epoch 79/100, Training Loss: 25.5570\n",
      "Epoch 80/100, Training Loss: 25.5559\n",
      "Epoch 81/100, Training Loss: 25.5548\n",
      "Epoch 82/100, Training Loss: 25.5537\n",
      "Epoch 83/100, Training Loss: 25.5530\n",
      "Epoch 84/100, Training Loss: 25.5522\n",
      "Epoch 85/100, Training Loss: 25.5515\n",
      "Epoch 86/100, Training Loss: 25.5509\n",
      "Epoch 87/100, Training Loss: 25.5504\n",
      "Epoch 88/100, Training Loss: 25.5499\n",
      "Epoch 89/100, Training Loss: 25.5495\n",
      "Epoch 90/100, Training Loss: 25.5491\n",
      "Epoch 91/100, Training Loss: 25.5488\n",
      "Epoch 92/100, Training Loss: 25.5485\n",
      "Epoch 93/100, Training Loss: 25.5482\n",
      "Epoch 94/100, Training Loss: 25.5480\n",
      "Epoch 95/100, Training Loss: 25.5478\n",
      "Epoch 96/100, Training Loss: 25.5476\n",
      "Epoch 97/100, Training Loss: 25.5474\n",
      "Epoch 98/100, Training Loss: 25.5473\n",
      "Epoch 99/100, Training Loss: 25.5472\n",
      "Epoch 100/100, Training Loss: 25.5471\n",
      "Epoch 1/100, Training Loss: 382.8555\n",
      "Epoch 2/100, Training Loss: 238.8476\n",
      "Epoch 3/100, Training Loss: 71.8191\n",
      "Epoch 4/100, Training Loss: 72.7302\n",
      "Epoch 5/100, Training Loss: 103.9248\n",
      "Epoch 6/100, Training Loss: 79.9424\n",
      "Epoch 7/100, Training Loss: 59.8725\n",
      "Epoch 8/100, Training Loss: 55.7570\n",
      "Epoch 9/100, Training Loss: 53.7569\n",
      "Epoch 10/100, Training Loss: 52.6153\n",
      "Epoch 11/100, Training Loss: 51.8828\n",
      "Epoch 12/100, Training Loss: 51.1317\n",
      "Epoch 13/100, Training Loss: 50.3922\n",
      "Epoch 14/100, Training Loss: 49.7290\n",
      "Epoch 15/100, Training Loss: 48.9997\n",
      "Epoch 16/100, Training Loss: 48.1512\n",
      "Epoch 17/100, Training Loss: 47.4347\n",
      "Epoch 18/100, Training Loss: 46.7096\n",
      "Epoch 19/100, Training Loss: 46.0137\n",
      "Epoch 20/100, Training Loss: 45.4770\n",
      "Epoch 21/100, Training Loss: 44.7492\n",
      "Epoch 22/100, Training Loss: 44.1116\n",
      "Epoch 23/100, Training Loss: 43.6889\n",
      "Epoch 24/100, Training Loss: 43.3279\n",
      "Epoch 25/100, Training Loss: 42.8283\n",
      "Epoch 26/100, Training Loss: 42.4790\n",
      "Epoch 27/100, Training Loss: 42.1642\n",
      "Epoch 28/100, Training Loss: 41.9044\n",
      "Epoch 29/100, Training Loss: 41.5450\n",
      "Epoch 30/100, Training Loss: 41.2726\n",
      "Epoch 31/100, Training Loss: 41.0206\n",
      "Epoch 32/100, Training Loss: 40.8436\n",
      "Epoch 33/100, Training Loss: 40.6657\n",
      "Epoch 34/100, Training Loss: 40.4877\n",
      "Epoch 35/100, Training Loss: 40.3610\n",
      "Epoch 36/100, Training Loss: 40.2370\n",
      "Epoch 37/100, Training Loss: 40.1139\n",
      "Epoch 38/100, Training Loss: 40.0266\n",
      "Epoch 39/100, Training Loss: 39.9408\n",
      "Epoch 40/100, Training Loss: 39.8553\n",
      "Epoch 41/100, Training Loss: 39.7951\n",
      "Epoch 42/100, Training Loss: 39.7344\n",
      "Epoch 43/100, Training Loss: 39.6738\n",
      "Epoch 44/100, Training Loss: 39.6315\n",
      "Epoch 45/100, Training Loss: 39.5890\n",
      "Epoch 46/100, Training Loss: 39.5464\n",
      "Epoch 47/100, Training Loss: 39.5165\n",
      "Epoch 48/100, Training Loss: 39.4867\n",
      "Epoch 49/100, Training Loss: 39.4568\n",
      "Epoch 50/100, Training Loss: 39.4357\n",
      "Epoch 51/100, Training Loss: 39.4146\n",
      "Epoch 52/100, Training Loss: 39.3935\n",
      "Epoch 53/100, Training Loss: 39.3787\n",
      "Epoch 54/100, Training Loss: 39.3639\n",
      "Epoch 55/100, Training Loss: 39.3492\n",
      "Epoch 56/100, Training Loss: 39.3388\n",
      "Epoch 57/100, Training Loss: 39.3284\n",
      "Epoch 58/100, Training Loss: 39.3181\n",
      "Epoch 59/100, Training Loss: 39.3108\n",
      "Epoch 60/100, Training Loss: 39.3035\n",
      "Epoch 61/100, Training Loss: 39.2962\n",
      "Epoch 62/100, Training Loss: 39.2911\n",
      "Epoch 63/100, Training Loss: 39.2860\n",
      "Epoch 64/100, Training Loss: 39.2809\n",
      "Epoch 65/100, Training Loss: 39.2773\n",
      "Epoch 66/100, Training Loss: 39.2738\n",
      "Epoch 67/100, Training Loss: 39.2702\n",
      "Epoch 68/100, Training Loss: 39.2677\n",
      "Epoch 69/100, Training Loss: 39.2652\n",
      "Epoch 70/100, Training Loss: 39.2627\n",
      "Epoch 71/100, Training Loss: 39.2609\n",
      "Epoch 72/100, Training Loss: 39.2592\n",
      "Epoch 73/100, Training Loss: 39.2574\n",
      "Epoch 74/100, Training Loss: 39.2562\n",
      "Epoch 75/100, Training Loss: 39.2550\n",
      "Epoch 76/100, Training Loss: 39.2537\n",
      "Epoch 77/100, Training Loss: 39.2529\n",
      "Epoch 78/100, Training Loss: 39.2520\n",
      "Epoch 79/100, Training Loss: 39.2512\n",
      "Epoch 80/100, Training Loss: 39.2506\n",
      "Epoch 81/100, Training Loss: 39.2500\n",
      "Epoch 82/100, Training Loss: 39.2494\n",
      "Epoch 83/100, Training Loss: 39.2489\n",
      "Epoch 84/100, Training Loss: 39.2485\n",
      "Epoch 85/100, Training Loss: 39.2481\n",
      "Epoch 86/100, Training Loss: 39.2478\n",
      "Epoch 87/100, Training Loss: 39.2475\n",
      "Epoch 88/100, Training Loss: 39.2472\n",
      "Epoch 89/100, Training Loss: 39.2470\n",
      "Epoch 90/100, Training Loss: 39.2468\n",
      "Epoch 91/100, Training Loss: 39.2466\n",
      "Epoch 92/100, Training Loss: 39.2464\n",
      "Epoch 93/100, Training Loss: 39.2463\n",
      "Epoch 94/100, Training Loss: 39.2462\n",
      "Epoch 95/100, Training Loss: 39.2461\n",
      "Epoch 96/100, Training Loss: 39.2460\n",
      "Epoch 97/100, Training Loss: 39.2459\n",
      "Epoch 98/100, Training Loss: 39.2458\n",
      "Epoch 99/100, Training Loss: 39.2457\n",
      "Epoch 100/100, Training Loss: 39.2457\n"
     ]
    },
    {
     "data": {
      "text/plain": [
       "<All keys matched successfully>"
      ]
     },
     "execution_count": 54,
     "metadata": {},
     "output_type": "execute_result"
    }
   ],
   "source": [
    "import torch.optim as optim\n",
    "import copy\n",
    "from sklearn.model_selection import KFold  \n",
    "import torch.nn.init as init\n",
    "from torch.optim.lr_scheduler import StepLR\n",
    "\n",
    "\n",
    "\n",
    "num_folds = 2\n",
    "kf = KFold(n_splits=num_folds)\n",
    "best_model_states = []\n",
    "best_losses = []\n",
    "torch.autograd.set_detect_anomaly(True)\n",
    "\n",
    "for train_index, valid_index in kf.split(train_data_2d):\n",
    "    # Split the data into training and validation sets for each fold\n",
    "    X_train_fold, X_valid_fold = train_data_2d[train_index], train_data_2d[valid_index]\n",
    "    y_train_fold, y_valid_fold = train_label[train_index], train_label[valid_index]\n",
    "\n",
    "    net = Net() \n",
    "     \n",
    "    for m in net.modules():\n",
    "        if isinstance(m, nn.Linear):\n",
    "            init.kaiming_normal_(m.weight, mode='fan_out', nonlinearity='relu')\n",
    "\n",
    "    optimizer = optim.SGD(net.parameters(), lr=0.065)\n",
    "    scheduler = StepLR(optimizer, step_size=3, gamma=0.7)\n",
    "    criterion = nn.MSELoss()\n",
    "\n",
    "    best_loss = float('inf')  \n",
    "    best_model_state_dict = None\n",
    "\n",
    "    num_epochs = 100\n",
    "    for epoch in range(num_epochs):\n",
    "        optimizer.zero_grad()\n",
    "        output = net(X_train_fold)\n",
    "        loss = criterion(output, y_train_fold)\n",
    "\n",
    "        loss.backward()\n",
    "        optimizer.step()\n",
    "        scheduler.step()\n",
    "        print('Epoch %d/%d, Training Loss: %.4f' % (epoch+1, num_epochs, loss.item()))\n",
    "        \n",
    "        if loss.item() < best_loss:\n",
    "            best_loss = loss.item()\n",
    "            best_model_state_dict = copy.deepcopy(net.state_dict())\n",
    "\n",
    "    best_model_states.append(best_model_state_dict)\n",
    "    best_losses.append(best_loss)\n",
    "\n",
    "best_fold = best_losses.index(min(best_losses))\n",
    "best_model_state_dict = best_model_states[best_fold]\n",
    "net = Net()  # Initialize a new model\n",
    "net.load_state_dict(best_model_state_dict)\n"
   ]
  },
  {
   "cell_type": "code",
   "execution_count": 55,
   "metadata": {},
   "outputs": [
    {
     "name": "stdout",
     "output_type": "stream",
     "text": [
      "Training R-squared: 0.6847084312414147\n",
      "Validation R-squared: 0.6783754683394139\n",
      "Training MSE: 26.049028\n",
      "Validation MSE: 26.762283\n",
      "Training MAE: 3.996519\n",
      "Validation MAE: 4.0579834\n"
     ]
    }
   ],
   "source": [
    "from sklearn.metrics import r2_score\n",
    "from sklearn.metrics import mean_squared_error\n",
    "from sklearn.metrics import mean_absolute_error\n",
    "net.eval()\n",
    "with torch.no_grad():\n",
    "    train_predictions = net(train_data_2d)\n",
    "    test_predictions = net(valid_data_2d)\n",
    "print(\"Training R-squared:\", r2_score(train_label, train_predictions))\n",
    "print(\"Validation R-squared:\", r2_score(valid_label, test_predictions))\n",
    "print(\"Training MSE:\", mean_squared_error(train_label, train_predictions))\n",
    "print(\"Validation MSE:\", mean_squared_error(valid_label, test_predictions))\n",
    "print(\"Training MAE:\", mean_absolute_error(train_label, train_predictions))\n",
    "print(\"Validation MAE:\", mean_absolute_error(valid_label, test_predictions))\n"
   ]
  },
  {
   "cell_type": "code",
   "execution_count": 56,
   "metadata": {},
   "outputs": [
    {
     "data": {
      "image/png": "[encoded data removed]",
      "text/plain": [
       "<Figure size 1000x600 with 1 Axes>"
      ]
     },
     "metadata": {},
     "output_type": "display_data"
    }
   ],
   "source": [
    "plt.figure(figsize=(10, 6))\n",
    "\n",
    "# Plot prediction lines\n",
    "plt.plot(test_predictions[:, 0], label='Prediction X-Pos', color='green', linewidth=.5)\n",
    "plt.scatter(np.arange(len(valid_label)), valid_label[:, 0], label='Valid Labels X-Pos', color='red', marker='o', s=10)\n",
    "plt.plot(test_predictions[:, 1], label='Prediction Y-Pos', color='purple', linewidth=.5)\n",
    "plt.scatter(np.arange(len(valid_label)), valid_label[:, 1], label='Valid Labels Y-Pos', color='blue', marker='s', s=10)\n",
    "\n",
    "# Add labels and legend\n",
    "plt.xlabel('Data Points')\n",
    "plt.ylabel('Values')\n",
    "plt.legend()\n",
    "\n",
    "# Add a title\n",
    "plt.title('Predictions and Valid Labels for 10 random data points')\n",
    "plt.xlim(1000, 1010)\n",
    "# Show the plot\n",
    "plt.show()"
   ]
  }
 ],
 "metadata": {
  "kernelspec": {
   "display_name": "Python 3",
   "language": "python",
   "name": "python3"
  },
  "language_info": {
   "codemirror_mode": {
    "name": "ipython",
    "version": 3
   },
   "file_extension": ".py",
   "mimetype": "text/x-python",
   "name": "python",
   "nbconvert_exporter": "python",
   "pygments_lexer": "ipython3",
   "version": "3.11.6"
  }
 },
 "nbformat": 4,
 "nbformat_minor": 5
}
