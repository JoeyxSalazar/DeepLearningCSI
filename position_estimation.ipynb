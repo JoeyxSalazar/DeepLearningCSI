{
 "cells": [
  {
   "cell_type": "markdown",
   "id": "b980fb99",
   "metadata": {},
   "source": [
    "## Import Tools"
   ]
  },
  {
   "cell_type": "code",
   "execution_count": 95,
   "id": "1d18ad08",
   "metadata": {},
   "outputs": [],
   "source": [
    "import torch\n",
    "import torch.nn as nn\n",
    "import numpy as np\n",
    "import scipy.io \n",
    "import random\n",
    "import math\n",
    "import matplotlib.pyplot as plt\n",
    "import torch.nn.functional as F\n",
    "import os\n",
    "os.environ['KMP_DUPLICATE_LIB_OK']='True' \n",
    "from torch.utils.data import TensorDataset\n",
    "from torch.utils.data import DataLoader\n",
    "from sklearn.metrics import accuracy_score"
   ]
  },
  {
   "cell_type": "markdown",
   "id": "8606c205",
   "metadata": {},
   "source": [
    "## Dataset Processing "
   ]
  },
  {
   "cell_type": "markdown",
   "id": "4f2dca00",
   "metadata": {},
   "source": [
    "### Read in the original dataset "
   ]
  },
  {
   "cell_type": "code",
   "execution_count": 96,
   "id": "58c7763d",
   "metadata": {},
   "outputs": [],
   "source": [
    "train_dl_origin = torch.load('Dataset/train_dl.pt')\n",
    "valid_dl_origin = torch.load('Dataset/valid_dl.pt')\n",
    "\n",
    "train_CSI = train_dl_origin.dataset[:][0]\n",
    "train_label = train_dl_origin.dataset[:][1][:,0:2]\n",
    "\n",
    "valid_CSI = valid_dl_origin.dataset[:][0]\n",
    "valid_label = valid_dl_origin.dataset[:][1][:,0:2]"
   ]
  },
  {
   "cell_type": "code",
   "execution_count": 97,
   "id": "0595693c",
   "metadata": {},
   "outputs": [
    {
     "name": "stdout",
     "output_type": "stream",
     "text": [
      "tensor([[-37.2707, -21.4267],\n",
      "        [-38.7407, -16.3757],\n",
      "        [-25.9407, -16.6947],\n",
      "        ...,\n",
      "        [-32.1957, -22.0517],\n",
      "        [-16.1297, -14.0287],\n",
      "        [-37.0697, -16.6887]])\n"
     ]
    }
   ],
   "source": [
    "print(train_label)"
   ]
  },
  {
   "cell_type": "markdown",
   "id": "c7566af9",
   "metadata": {},
   "source": [
    "### CSI Processing: Take Modulus of complex matrices"
   ]
  },
  {
   "cell_type": "code",
   "execution_count": 98,
   "id": "f91b91df",
   "metadata": {},
   "outputs": [],
   "source": [
    "train_CSI_modulus = torch.abs(train_CSI)\n",
    "valid_CSI_modulus = torch.abs(valid_CSI)"
   ]
  },
  {
   "cell_type": "code",
   "execution_count": 99,
   "id": "1257ed76",
   "metadata": {},
   "outputs": [
    {
     "name": "stdout",
     "output_type": "stream",
     "text": [
      "torch.Size([15000, 1, 4, 1632])\n",
      "torch.Size([5000, 1, 4, 1632])\n",
      "torch.Size([15000, 2])\n",
      "torch.Size([5000, 2])\n"
     ]
    }
   ],
   "source": [
    "print(train_CSI_modulus.shape)\n",
    "print(valid_CSI_modulus.shape)\n",
    "print(train_label.shape)\n",
    "print(valid_label.shape)"
   ]
  },
  {
   "cell_type": "markdown",
   "id": "0db9fa7c",
   "metadata": {},
   "source": [
    "###  CSI Processing: Normalize to [0,1]"
   ]
  },
  {
   "cell_type": "code",
   "execution_count": 100,
   "id": "9bdd0c7a",
   "metadata": {},
   "outputs": [],
   "source": [
    "# Min-Max Scaling\n",
    "min_value = torch.min(train_CSI_modulus)\n",
    "max_value = torch.max(train_CSI_modulus)\n",
    "\n",
    "normalized_train_CSI_modulus = (train_CSI_modulus - min_value) / (max_value - min_value)\n",
    "normalized_valid_CSI_modulus = (valid_CSI_modulus - min_value) / (max_value - min_value)"
   ]
  },
  {
   "cell_type": "code",
   "execution_count": 101,
   "id": "61d8ed0a",
   "metadata": {},
   "outputs": [],
   "source": [
    "# Convert 4d to 2d\n",
    "train_data_2d = normalized_train_CSI_modulus.view(normalized_train_CSI_modulus.size(0), -1)  # Reshape to (15000, 4 * 1632)\n",
    "valid_data_2d = normalized_valid_CSI_modulus.view(normalized_valid_CSI_modulus.size(0), -1)  # Reshape to (15000, 4 * 1632)"
   ]
  },
  {
   "cell_type": "code",
   "execution_count": 102,
   "metadata": {},
   "outputs": [
    {
     "data": {
      "text/plain": [
       "torch.Size([5000, 6528])"
      ]
     },
     "execution_count": 102,
     "metadata": {},
     "output_type": "execute_result"
    }
   ],
   "source": [
    "train_data_2d.shape\n",
    "valid_data_2d.shape"
   ]
  },
  {
   "cell_type": "markdown",
   "metadata": {},
   "source": [
    "#   ML w/ Linear Regression"
   ]
  },
  {
   "cell_type": "code",
   "execution_count": 8,
   "metadata": {},
   "outputs": [
    {
     "name": "stdout",
     "output_type": "stream",
     "text": [
      "0.9018167298339954\n",
      "0.6891206395129608\n"
     ]
    }
   ],
   "source": [
    "from sklearn.linear_model import LinearRegression\n",
    "# Create the model\n",
    "model = LinearRegression()\n",
    "# Fit the model\n",
    "model.fit(train_data_2d, train_label)\n",
    "# Score the model\n",
    "print(model.score(train_data_2d, train_label))\n",
    "print(model.score(valid_data_2d, valid_label))\n"
   ]
  },
  {
   "cell_type": "code",
   "execution_count": 9,
   "metadata": {},
   "outputs": [],
   "source": [
    "from sklearn.metrics import mean_squared_error\n",
    "train_predictions = model.predict(train_data_2d)\n",
    "valid_predictions = model.predict(valid_data_2d)\n",
    "train_mse = mean_squared_error(train_label, train_predictions)\n",
    "valid_mse = mean_squared_error(valid_label, valid_predictions)"
   ]
  },
  {
   "cell_type": "markdown",
   "metadata": {},
   "source": [
    "### Lets use L1 regularization now\n",
    "- We expect this to perform poorly since all features are equally important"
   ]
  },
  {
   "cell_type": "code",
   "execution_count": 11,
   "metadata": {},
   "outputs": [
    {
     "name": "stderr",
     "output_type": "stream",
     "text": [
      "C:\\Users\\Joey\\AppData\\Local\\Packages\\PythonSoftwareFoundation.Python.3.11_qbz5n2kfra8p0\\LocalCache\\local-packages\\Python311\\site-packages\\sklearn\\linear_model\\_base.py:148: FutureWarning: 'normalize' was deprecated in version 1.0 and will be removed in 1.2. Please leave the normalize parameter to its default value to silence this warning. The default behavior of this estimator is to not do any normalization. If normalization is needed please use sklearn.preprocessing.StandardScaler instead.\n",
      "  warnings.warn(\n"
     ]
    },
    {
     "data": {
      "text/html": [
       "<style>#sk-container-id-1 {color: black;background-color: white;}#sk-container-id-1 pre{padding: 0;}#sk-container-id-1 div.sk-toggleable {background-color: white;}#sk-container-id-1 label.sk-toggleable__label {cursor: pointer;display: block;width: 100%;margin-bottom: 0;padding: 0.3em;box-sizing: border-box;text-align: center;}#sk-container-id-1 label.sk-toggleable__label-arrow:before {content: \"▸\";float: left;margin-right: 0.25em;color: #696969;}#sk-container-id-1 label.sk-toggleable__label-arrow:hover:before {color: black;}#sk-container-id-1 div.sk-estimator:hover label.sk-toggleable__label-arrow:before {color: black;}#sk-container-id-1 div.sk-toggleable__content {max-height: 0;max-width: 0;overflow: hidden;text-align: left;background-color: #f0f8ff;}#sk-container-id-1 div.sk-toggleable__content pre {margin: 0.2em;color: black;border-radius: 0.25em;background-color: #f0f8ff;}#sk-container-id-1 input.sk-toggleable__control:checked~div.sk-toggleable__content {max-height: 200px;max-width: 100%;overflow: auto;}#sk-container-id-1 input.sk-toggleable__control:checked~label.sk-toggleable__label-arrow:before {content: \"▾\";}#sk-container-id-1 div.sk-estimator input.sk-toggleable__control:checked~label.sk-toggleable__label {background-color: #d4ebff;}#sk-container-id-1 div.sk-label input.sk-toggleable__control:checked~label.sk-toggleable__label {background-color: #d4ebff;}#sk-container-id-1 input.sk-hidden--visually {border: 0;clip: rect(1px 1px 1px 1px);clip: rect(1px, 1px, 1px, 1px);height: 1px;margin: -1px;overflow: hidden;padding: 0;position: absolute;width: 1px;}#sk-container-id-1 div.sk-estimator {font-family: monospace;background-color: #f0f8ff;border: 1px dotted black;border-radius: 0.25em;box-sizing: border-box;margin-bottom: 0.5em;}#sk-container-id-1 div.sk-estimator:hover {background-color: #d4ebff;}#sk-container-id-1 div.sk-parallel-item::after {content: \"\";width: 100%;border-bottom: 1px solid gray;flex-grow: 1;}#sk-container-id-1 div.sk-label:hover label.sk-toggleable__label {background-color: #d4ebff;}#sk-container-id-1 div.sk-serial::before {content: \"\";position: absolute;border-left: 1px solid gray;box-sizing: border-box;top: 0;bottom: 0;left: 50%;z-index: 0;}#sk-container-id-1 div.sk-serial {display: flex;flex-direction: column;align-items: center;background-color: white;padding-right: 0.2em;padding-left: 0.2em;position: relative;}#sk-container-id-1 div.sk-item {position: relative;z-index: 1;}#sk-container-id-1 div.sk-parallel {display: flex;align-items: stretch;justify-content: center;background-color: white;position: relative;}#sk-container-id-1 div.sk-item::before, #sk-container-id-1 div.sk-parallel-item::before {content: \"\";position: absolute;border-left: 1px solid gray;box-sizing: border-box;top: 0;bottom: 0;left: 50%;z-index: -1;}#sk-container-id-1 div.sk-parallel-item {display: flex;flex-direction: column;z-index: 1;position: relative;background-color: white;}#sk-container-id-1 div.sk-parallel-item:first-child::after {align-self: flex-end;width: 50%;}#sk-container-id-1 div.sk-parallel-item:last-child::after {align-self: flex-start;width: 50%;}#sk-container-id-1 div.sk-parallel-item:only-child::after {width: 0;}#sk-container-id-1 div.sk-dashed-wrapped {border: 1px dashed gray;margin: 0 0.4em 0.5em 0.4em;box-sizing: border-box;padding-bottom: 0.4em;background-color: white;}#sk-container-id-1 div.sk-label label {font-family: monospace;font-weight: bold;display: inline-block;line-height: 1.2em;}#sk-container-id-1 div.sk-label-container {text-align: center;}#sk-container-id-1 div.sk-container {/* jupyter's `normalize.less` sets `[hidden] { display: none; }` but bootstrap.min.css set `[hidden] { display: none !important; }` so we also need the `!important` here to be able to override the default hidden behavior on the sphinx rendered scikit-learn.org. See: https://github.com/scikit-learn/scikit-learn/issues/21755 */display: inline-block !important;position: relative;}#sk-container-id-1 div.sk-text-repr-fallback {display: none;}</style><div id=\"sk-container-id-1\" class=\"sk-top-container\"><div class=\"sk-text-repr-fallback\"><pre>Lasso(alpha=0.1, normalize=False)</pre><b>In a Jupyter environment, please rerun this cell to show the HTML representation or trust the notebook. <br />On GitHub, the HTML representation is unable to render, please try loading this page with nbviewer.org.</b></div><div class=\"sk-container\" hidden><div class=\"sk-item\"><div class=\"sk-estimator sk-toggleable\"><input class=\"sk-toggleable__control sk-hidden--visually\" id=\"sk-estimator-id-1\" type=\"checkbox\" checked><label for=\"sk-estimator-id-1\" class=\"sk-toggleable__label sk-toggleable__label-arrow\">Lasso</label><div class=\"sk-toggleable__content\"><pre>Lasso(alpha=0.1, normalize=False)</pre></div></div></div></div></div>"
      ],
      "text/plain": [
       "Lasso(alpha=0.1, normalize=False)"
      ]
     },
     "execution_count": 11,
     "metadata": {},
     "output_type": "execute_result"
    }
   ],
   "source": [
    "from sklearn.linear_model import Lasso\n",
    "lasso_model = Lasso(alpha=.1, normalize=False)\n",
    "lasso_model.fit(train_data_2d, train_label)"
   ]
  },
  {
   "cell_type": "code",
   "execution_count": 12,
   "metadata": {},
   "outputs": [
    {
     "name": "stdout",
     "output_type": "stream",
     "text": [
      "Training R-squared: 0.28614985912199603\n",
      "Validation R-squared: 0.28412069940421636\n"
     ]
    }
   ],
   "source": [
    "train_score = lasso_model.score(train_data_2d, train_label)\n",
    "valid_score = lasso_model.score(valid_data_2d, valid_label)\n",
    "\n",
    "print(\"Training R-squared:\", train_score)\n",
    "print(\"Validation R-squared:\", valid_score)"
   ]
  },
  {
   "cell_type": "code",
   "execution_count": 13,
   "metadata": {},
   "outputs": [],
   "source": [
    "train_predictions_l = lasso_model.predict(train_data_2d)\n",
    "valid_predictions_l = lasso_model.predict(valid_data_2d)\n",
    "train_mse_l = mean_squared_error(train_label, train_predictions_l)\n",
    "valid_mse_l = mean_squared_error(valid_label, valid_predictions_l)\n"
   ]
  },
  {
   "cell_type": "code",
   "execution_count": 14,
   "metadata": {},
   "outputs": [
    {
     "data": {
      "image/png": "[encoded data removed]",
      "text/plain": [
       "<Figure size 640x480 with 1 Axes>"
      ]
     },
     "metadata": {},
     "output_type": "display_data"
    }
   ],
   "source": [
    "mse_values = [train_mse, train_mse_l, valid_mse, valid_mse_l]  \n",
    "case_labels = ['Lin Reg Train', 'Lasso Train', 'Line Reg Valid', 'Lasso Valid']  \n",
    "\n",
    "plt.bar(case_labels, mse_values, color='blue')\n",
    "plt.xlabel('Cases')\n",
    "plt.ylabel('Mean Squared Error (MSE)')\n",
    "plt.title('MSE for Different Cases')\n",
    "\n",
    "plt.show()"
   ]
  },
  {
   "cell_type": "markdown",
   "metadata": {},
   "source": [
    "# MLP Approach"
   ]
  },
  {
   "cell_type": "code",
   "execution_count": 139,
   "metadata": {},
   "outputs": [],
   "source": [
    "class Net(nn.Module):\n",
    "    def __init__(self):\n",
    "        super(Net, self).__init__()\n",
    "        self.layer1 = nn.Linear(4 * 1632, 2048)\n",
    "        self.bn1 = nn.BatchNorm1d(2048)\n",
    "        self.layer2 = nn.Linear(2048, 1024)\n",
    "        self.bn2 = nn.BatchNorm1d(1024)\n",
    "        self.layer3 = nn.Linear(1024, 512)\n",
    "        self.bn3 = nn.BatchNorm1d(512)\n",
    "        self.layer4 = nn.Linear(512, 128)\n",
    "        self.bn4 = nn.BatchNorm1d(128)\n",
    "        self.layer5 = nn.Linear(128, 64)\n",
    "        self.bn5 = nn.BatchNorm1d(64)\n",
    "        self.layer6 = nn.Linear(64, 2)\n",
    "\n",
    "    def forward(self, x):\n",
    "        x = F.relu(self.bn1(self.layer1(x)))\n",
    "        x = F.relu(self.bn2(self.layer2(x)))\n",
    "        x = F.relu(self.bn3(self.layer3(x)))\n",
    "        x = F.relu(self.bn4(self.layer4(x)))\n",
    "        x = F.relu(self.bn5(self.layer5(x)))\n",
    "        x = self.layer6(x)\n",
    "        return x\n"
   ]
  },
  {
   "cell_type": "code",
   "execution_count": 144,
   "metadata": {},
   "outputs": [
    {
     "name": "stdout",
     "output_type": "stream",
     "text": [
      "Epoch 1/25, Training Loss: 328.9169\n",
      "Epoch 2/25, Training Loss: 574.9511\n",
      "Epoch 3/25, Training Loss: 375.1008\n",
      "Epoch 4/25, Training Loss: 334.8081\n",
      "Epoch 5/25, Training Loss: 241.5489\n",
      "Epoch 6/25, Training Loss: 154.3037\n",
      "Epoch 7/25, Training Loss: 91.2530\n",
      "Epoch 8/25, Training Loss: 79.8429\n",
      "Epoch 9/25, Training Loss: 81.3886\n",
      "Epoch 10/25, Training Loss: 80.8718\n",
      "Epoch 11/25, Training Loss: 80.0951\n",
      "Epoch 12/25, Training Loss: 75.7831\n",
      "Epoch 13/25, Training Loss: 69.1356\n",
      "Epoch 14/25, Training Loss: 68.9564\n",
      "Epoch 15/25, Training Loss: 69.0445\n",
      "Epoch 16/25, Training Loss: 66.8633\n",
      "Epoch 17/25, Training Loss: 64.6232\n",
      "Epoch 18/25, Training Loss: 62.1899\n",
      "Epoch 19/25, Training Loss: 60.5743\n",
      "Epoch 20/25, Training Loss: 59.9756\n",
      "Epoch 21/25, Training Loss: 59.9214\n",
      "Epoch 22/25, Training Loss: 59.8320\n",
      "Epoch 23/25, Training Loss: 59.6049\n",
      "Epoch 24/25, Training Loss: 59.3184\n",
      "Epoch 25/25, Training Loss: 59.0328\n",
      "Epoch 1/25, Training Loss: 573.0173\n",
      "Epoch 2/25, Training Loss: 321.5522\n",
      "Epoch 3/25, Training Loss: 119.7840\n",
      "Epoch 4/25, Training Loss: 202.6045\n",
      "Epoch 5/25, Training Loss: 140.3839\n",
      "Epoch 6/25, Training Loss: 315.3182\n",
      "Epoch 7/25, Training Loss: 133.3478\n",
      "Epoch 8/25, Training Loss: 260.9312\n",
      "Epoch 9/25, Training Loss: 145.8108\n",
      "Epoch 10/25, Training Loss: 93.2987\n",
      "Epoch 11/25, Training Loss: 94.2336\n",
      "Epoch 12/25, Training Loss: 83.2693\n",
      "Epoch 13/25, Training Loss: 66.7606\n",
      "Epoch 14/25, Training Loss: 70.0182\n",
      "Epoch 15/25, Training Loss: 77.5437\n",
      "Epoch 16/25, Training Loss: 78.3519\n",
      "Epoch 17/25, Training Loss: 75.4168\n",
      "Epoch 18/25, Training Loss: 70.7536\n",
      "Epoch 19/25, Training Loss: 66.6030\n",
      "Epoch 20/25, Training Loss: 64.7270\n",
      "Epoch 21/25, Training Loss: 65.2875\n",
      "Epoch 22/25, Training Loss: 65.7315\n",
      "Epoch 23/25, Training Loss: 65.5923\n",
      "Epoch 24/25, Training Loss: 64.8547\n",
      "Epoch 25/25, Training Loss: 63.8005\n"
     ]
    },
    {
     "data": {
      "text/plain": [
       "<All keys matched successfully>"
      ]
     },
     "execution_count": 144,
     "metadata": {},
     "output_type": "execute_result"
    }
   ],
   "source": [
    "import torch.optim as optim\n",
    "import copy\n",
    "from sklearn.model_selection import KFold  \n",
    "import torch.nn.init as init\n",
    "from torch.optim.lr_scheduler import StepLR\n",
    "\n",
    "\n",
    "\n",
    "num_folds = 2\n",
    "kf = KFold(n_splits=num_folds)\n",
    "best_model_states = []\n",
    "best_losses = []\n",
    "\n",
    "for train_index, valid_index in kf.split(train_data_2d):\n",
    "    # Split the data into training and validation sets for each fold\n",
    "    X_train_fold, X_valid_fold = train_data_2d[train_index], train_data_2d[valid_index]\n",
    "    y_train_fold, y_valid_fold = train_label[train_index], train_label[valid_index]\n",
    "\n",
    "    net = Net()  \n",
    "    for m in net.modules():\n",
    "        if isinstance(m, nn.Linear):\n",
    "            init.kaiming_normal_(m.weight, mode='fan_out', nonlinearity='relu')\n",
    "\n",
    "    optimizer = optim.SGD(net.parameters(), lr=0.065, momentum=0.9)\n",
    "    scheduler = StepLR(optimizer, step_size=5, gamma=0.5)\n",
    "    criterion = nn.MSELoss()\n",
    "\n",
    "    best_loss = float('inf')  \n",
    "    best_model_state_dict = None\n",
    "\n",
    "    num_epochs = 25\n",
    "\n",
    "    for epoch in range(num_epochs):\n",
    "        optimizer.zero_grad()\n",
    "        output = net(X_train_fold)\n",
    "        loss = criterion(output, y_train_fold)\n",
    "        loss.backward()\n",
    "        optimizer.step()\n",
    "        scheduler.step()\n",
    "        print('Epoch %d/%d, Training Loss: %.4f' % (epoch+1, num_epochs, loss.item()))\n",
    "        \n",
    "        if loss.item() < best_loss:\n",
    "            best_loss = loss.item()\n",
    "            best_model_state_dict = copy.deepcopy(net.state_dict())\n",
    "            \n",
    "            '''optimizer = optim.SGD(net.parameters(), lr=optimizer.param_groups[0]['lr'] / 2)'''\n",
    "\n",
    "    best_model_states.append(best_model_state_dict)\n",
    "    best_losses.append(best_loss)\n",
    "\n",
    "best_fold = best_losses.index(min(best_losses))\n",
    "best_model_state_dict = best_model_states[best_fold]\n",
    "net = Net()  # Initialize a new model\n",
    "net.load_state_dict(best_model_state_dict)\n"
   ]
  },
  {
   "cell_type": "code",
   "execution_count": 141,
   "metadata": {},
   "outputs": [
    {
     "name": "stdout",
     "output_type": "stream",
     "text": [
      "Training R-squared: 0.25323758763038323\n",
      "Validation R-squared: 0.2514841042860619\n",
      "Training MSE: 66.66979\n",
      "Validation MSE: 66.72908\n",
      "Training MAE: 6.5927944\n",
      "Validation MAE: 6.6114173\n"
     ]
    }
   ],
   "source": [
    "from sklearn.metrics import r2_score\n",
    "from sklearn.metrics import mean_squared_error\n",
    "from sklearn.metrics import mean_absolute_error\n",
    "net.eval()\n",
    "with torch.no_grad():\n",
    "    train_predictions = net(train_data_2d)\n",
    "    test_predictions = net(valid_data_2d)\n",
    "print(\"Training R-squared:\", r2_score(train_label, train_predictions))\n",
    "print(\"Validation R-squared:\", r2_score(valid_label, test_predictions))\n",
    "print(\"Training MSE:\", mean_squared_error(train_label, train_predictions))\n",
    "print(\"Validation MSE:\", mean_squared_error(valid_label, test_predictions))\n",
    "print(\"Training MAE:\", mean_absolute_error(train_label, train_predictions))\n",
    "print(\"Validation MAE:\", mean_absolute_error(valid_label, test_predictions))\n"
   ]
  },
  {
   "cell_type": "code",
   "execution_count": 142,
   "metadata": {},
   "outputs": [
    {
     "data": {
      "image/png": "[encoded data removed]",
      "text/plain": [
       "<Figure size 1000x600 with 1 Axes>"
      ]
     },
     "metadata": {},
     "output_type": "display_data"
    }
   ],
   "source": [
    "plt.figure(figsize=(10, 6))\n",
    "\n",
    "# Plot prediction lines\n",
    "plt.plot(test_predictions[:, 0], label='Prediction X-Pos', color='green', linewidth=.5)\n",
    "plt.scatter(np.arange(len(valid_label)), valid_label[:, 0], label='Valid Labels X-Pos', color='red', marker='o', s=10)\n",
    "plt.plot(test_predictions[:, 1], label='Prediction Y-Pos', color='purple', linewidth=.5)\n",
    "plt.scatter(np.arange(len(valid_label)), valid_label[:, 1], label='Valid Labels Y-Pos', color='blue', marker='s', s=10)\n",
    "\n",
    "# Add labels and legend\n",
    "plt.xlabel('Data Points')\n",
    "plt.ylabel('Values')\n",
    "plt.legend()\n",
    "\n",
    "# Add a title\n",
    "plt.title('Predictions and Valid Labels for 10 random data points')\n",
    "plt.xlim(1000, 1010)\n",
    "# Show the plot\n",
    "plt.show()"
   ]
  }
 ],
 "metadata": {
  "kernelspec": {
   "display_name": "Python 3",
   "language": "python",
   "name": "python3"
  },
  "language_info": {
   "codemirror_mode": {
    "name": "ipython",
    "version": 3
   },
   "file_extension": ".py",
   "mimetype": "text/x-python",
   "name": "python",
   "nbconvert_exporter": "python",
   "pygments_lexer": "ipython3",
   "version": "3.11.6"
  }
 },
 "nbformat": 4,
 "nbformat_minor": 5
}
